{
  "nbformat": 4,
  "nbformat_minor": 0,
  "metadata": {
    "colab": {
      "name": "Classification report& confusion matrix.ipynb",
      "provenance": [],
      "authorship_tag": "ABX9TyP3zY0zRm2K22W0Kn5bWN4q",
      "include_colab_link": true
    },
    "kernelspec": {
      "name": "python3",
      "display_name": "Python 3"
    },
    "language_info": {
      "name": "python"
    }
  },
  "cells": [
    {
      "cell_type": "markdown",
      "metadata": {
        "id": "view-in-github",
        "colab_type": "text"
      },
      "source": [
        "<a href=\"https://colab.research.google.com/github/archajoshy/Advanced-Computing-Lab/blob/main/Experiment%208/Classification_report%26_confusion_matrix.ipynb\" target=\"_parent\"><img src=\"https://colab.research.google.com/assets/colab-badge.svg\" alt=\"Open In Colab\"/></a>"
      ]
    },
    {
      "cell_type": "code",
      "execution_count": 7,
      "metadata": {
        "id": "WWSWxyzY8JkM"
      },
      "outputs": [],
      "source": [
        "from sklearn.datasets import load_iris\n",
        "data=load_iris()\n",
        "x=data.data\n",
        "y=data.target"
      ]
    },
    {
      "cell_type": "code",
      "source": [
        "from sklearn.model_selection import train_test_split\n",
        "x_train, x_test, y_train, y_test = train_test_split(x, y, test_size=0.2)"
      ],
      "metadata": {
        "id": "j2a3RGd88Xo5"
      },
      "execution_count": 8,
      "outputs": []
    },
    {
      "cell_type": "code",
      "source": [
        "from sklearn.svm import SVC\n",
        "SVM=SVC(C=0.8,kernel=\"poly\",gamma='scale')\n",
        "SVM=SVM.fit(x_train,y_train)\n",
        "res_1=SVM.predict(x_test)\n"
      ],
      "metadata": {
        "id": "hh6OQlFm8nkq"
      },
      "execution_count": 9,
      "outputs": []
    },
    {
      "cell_type": "code",
      "source": [
        "from sklearn.naive_bayes import GaussianNB\n",
        "GNB=GaussianNB()\n",
        "GNB=GNB.fit(x_train,y_train)\n",
        "res_2=GNB.predict(x_test)"
      ],
      "metadata": {
        "id": "QzoJPhCz8z-Q"
      },
      "execution_count": 10,
      "outputs": []
    },
    {
      "cell_type": "code",
      "source": [
        "from sklearn.neural_network import MLPClassifier\n",
        "MLP=MLPClassifier(hidden_layer_sizes=(50,))\n",
        "MLP=MLP.fit(x_train,y_train)\n",
        "res_3=MLP.predict(x_test)"
      ],
      "metadata": {
        "colab": {
          "base_uri": "https://localhost:8080/"
        },
        "id": "nrzlueGI8ZWl",
        "outputId": "7764665c-11ce-4449-fa68-1b4d77d04b45"
      },
      "execution_count": 11,
      "outputs": [
        {
          "output_type": "stream",
          "name": "stderr",
          "text": [
            "/usr/local/lib/python3.7/dist-packages/sklearn/neural_network/_multilayer_perceptron.py:696: ConvergenceWarning: Stochastic Optimizer: Maximum iterations (200) reached and the optimization hasn't converged yet.\n",
            "  ConvergenceWarning,\n"
          ]
        }
      ]
    },
    {
      "cell_type": "code",
      "source": [
        "from sklearn.metrics import classification_report\n",
        "print('SVM')\n",
        "print(classification_report(y_test, res_1))\n",
        "print('Gaussian Naive Bayes')\n",
        "print(classification_report(y_test, res_2))\n",
        "print('MLP')\n",
        "print(classification_report(y_test, res_3))"
      ],
      "metadata": {
        "colab": {
          "base_uri": "https://localhost:8080/"
        },
        "id": "buvvSU4s9EgU",
        "outputId": "b05deb51-8258-4bba-a738-f84b546d8406"
      },
      "execution_count": 12,
      "outputs": [
        {
          "output_type": "stream",
          "name": "stdout",
          "text": [
            "SVM\n",
            "              precision    recall  f1-score   support\n",
            "\n",
            "           0       1.00      1.00      1.00        14\n",
            "           1       1.00      1.00      1.00        11\n",
            "           2       1.00      1.00      1.00         5\n",
            "\n",
            "    accuracy                           1.00        30\n",
            "   macro avg       1.00      1.00      1.00        30\n",
            "weighted avg       1.00      1.00      1.00        30\n",
            "\n",
            "Gaussian Naive Bayes\n",
            "              precision    recall  f1-score   support\n",
            "\n",
            "           0       1.00      1.00      1.00        14\n",
            "           1       1.00      1.00      1.00        11\n",
            "           2       1.00      1.00      1.00         5\n",
            "\n",
            "    accuracy                           1.00        30\n",
            "   macro avg       1.00      1.00      1.00        30\n",
            "weighted avg       1.00      1.00      1.00        30\n",
            "\n",
            "MLP\n",
            "              precision    recall  f1-score   support\n",
            "\n",
            "           0       1.00      1.00      1.00        14\n",
            "           1       1.00      0.82      0.90        11\n",
            "           2       0.71      1.00      0.83         5\n",
            "\n",
            "    accuracy                           0.93        30\n",
            "   macro avg       0.90      0.94      0.91        30\n",
            "weighted avg       0.95      0.93      0.94        30\n",
            "\n"
          ]
        }
      ]
    },
    {
      "cell_type": "code",
      "source": [
        "from sklearn.metrics import confusion_matrix\n",
        "print('SVM')\n",
        "print(confusion_matrix(y_test, res_1))\n",
        "print('Gaussian Naive Bayes')\n",
        "print(confusion_matrix(y_test, res_2))\n",
        "print('MLP')\n",
        "print(confusion_matrix(y_test, res_3))"
      ],
      "metadata": {
        "colab": {
          "base_uri": "https://localhost:8080/"
        },
        "id": "eJquocpC9SgX",
        "outputId": "4989c034-534f-4992-b0ab-5e6d6f3d6ef9"
      },
      "execution_count": 13,
      "outputs": [
        {
          "output_type": "stream",
          "name": "stdout",
          "text": [
            "SVM\n",
            "[[14  0  0]\n",
            " [ 0 11  0]\n",
            " [ 0  0  5]]\n",
            "Gaussian Naive Bayes\n",
            "[[14  0  0]\n",
            " [ 0 11  0]\n",
            " [ 0  0  5]]\n",
            "MLP\n",
            "[[14  0  0]\n",
            " [ 0  9  2]\n",
            " [ 0  0  5]]\n"
          ]
        }
      ]
    }
  ]
}