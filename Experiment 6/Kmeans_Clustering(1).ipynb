{
  "nbformat": 4,
  "nbformat_minor": 0,
  "metadata": {
    "colab": {
      "name": "Kmeans Clustering(1).ipynb",
      "provenance": [],
      "collapsed_sections": [],
      "authorship_tag": "ABX9TyOsoIoj41QVNnybxEyu5Xmk",
      "include_colab_link": true
    },
    "kernelspec": {
      "name": "python3",
      "display_name": "Python 3"
    },
    "language_info": {
      "name": "python"
    }
  },
  "cells": [
    {
      "cell_type": "markdown",
      "metadata": {
        "id": "view-in-github",
        "colab_type": "text"
      },
      "source": [
        "<a href=\"https://colab.research.google.com/github/archajoshy/Advanced-Computing-Lab/blob/main/Experiment%206/Kmeans_Clustering(1).ipynb\" target=\"_parent\"><img src=\"https://colab.research.google.com/assets/colab-badge.svg\" alt=\"Open In Colab\"/></a>"
      ]
    },
    {
      "cell_type": "code",
      "execution_count": null,
      "metadata": {
        "id": "TuFPbAehtCUp"
      },
      "outputs": [],
      "source": [
        "import pandas as pd\n",
        "file=pd.read_csv('/content/iris.csv')\n",
        "x=file[['sepal.length','sepal.width','petal.length','petal.width']]\n",
        "y=file['variety']"
      ]
    },
    {
      "cell_type": "code",
      "source": [
        "from sklearn.discriminant_analysis import LinearDiscriminantAnalysis\n",
        "lda = LinearDiscriminantAnalysis()"
      ],
      "metadata": {
        "id": "XkrDZv5HtD7s"
      },
      "execution_count": null,
      "outputs": []
    },
    {
      "cell_type": "code",
      "source": [
        "lda=lda.fit_transform(x,y)\n",
        "lda"
      ],
      "metadata": {
        "id": "evFLUv0vtgwQ",
        "colab": {
          "base_uri": "https://localhost:8080/"
        },
        "outputId": "e358cea8-8ed2-4116-a745-851802ed0bad"
      },
      "execution_count": null,
      "outputs": [
        {
          "output_type": "execute_result",
          "data": {
            "text/plain": [
              "array([[ 8.06179978e+00,  3.00420621e-01],\n",
              "       [ 7.12868772e+00, -7.86660426e-01],\n",
              "       [ 7.48982797e+00, -2.65384488e-01],\n",
              "       [ 6.81320057e+00, -6.70631068e-01],\n",
              "       [ 8.13230933e+00,  5.14462530e-01],\n",
              "       [ 7.70194674e+00,  1.46172097e+00],\n",
              "       [ 7.21261762e+00,  3.55836209e-01],\n",
              "       [ 7.60529355e+00, -1.16338380e-02],\n",
              "       [ 6.56055159e+00, -1.01516362e+00],\n",
              "       [ 7.34305989e+00, -9.47319209e-01],\n",
              "       [ 8.39738652e+00,  6.47363392e-01],\n",
              "       [ 7.21929685e+00, -1.09646389e-01],\n",
              "       [ 7.32679599e+00, -1.07298943e+00],\n",
              "       [ 7.57247066e+00, -8.05464137e-01],\n",
              "       [ 9.84984300e+00,  1.58593698e+00],\n",
              "       [ 9.15823890e+00,  2.73759647e+00],\n",
              "       [ 8.58243141e+00,  1.83448945e+00],\n",
              "       [ 7.78075375e+00,  5.84339407e-01],\n",
              "       [ 8.07835876e+00,  9.68580703e-01],\n",
              "       [ 8.02097451e+00,  1.14050366e+00],\n",
              "       [ 7.49680227e+00, -1.88377220e-01],\n",
              "       [ 7.58648117e+00,  1.20797032e+00],\n",
              "       [ 8.68104293e+00,  8.77590154e-01],\n",
              "       [ 6.25140358e+00,  4.39696367e-01],\n",
              "       [ 6.55893336e+00, -3.89222752e-01],\n",
              "       [ 6.77138315e+00, -9.70634453e-01],\n",
              "       [ 6.82308032e+00,  4.63011612e-01],\n",
              "       [ 7.92461638e+00,  2.09638715e-01],\n",
              "       [ 7.99129024e+00,  8.63787128e-02],\n",
              "       [ 6.82946447e+00, -5.44960851e-01],\n",
              "       [ 6.75895493e+00, -7.59002759e-01],\n",
              "       [ 7.37495254e+00,  5.65844592e-01],\n",
              "       [ 9.12634625e+00,  1.22443267e+00],\n",
              "       [ 9.46768199e+00,  1.82522635e+00],\n",
              "       [ 7.06201386e+00, -6.63400423e-01],\n",
              "       [ 7.95876243e+00, -1.64961722e-01],\n",
              "       [ 8.61367201e+00,  4.03253602e-01],\n",
              "       [ 8.33041759e+00,  2.28133530e-01],\n",
              "       [ 6.93412007e+00, -7.05519379e-01],\n",
              "       [ 7.68823131e+00, -9.22362309e-03],\n",
              "       [ 7.91793715e+00,  6.75121313e-01],\n",
              "       [ 5.66188065e+00, -1.93435524e+00],\n",
              "       [ 7.24101468e+00, -2.72615132e-01],\n",
              "       [ 6.41443556e+00,  1.24730131e+00],\n",
              "       [ 6.85944381e+00,  1.05165396e+00],\n",
              "       [ 6.76470393e+00, -5.05151855e-01],\n",
              "       [ 8.08189937e+00,  7.63392750e-01],\n",
              "       [ 7.18676904e+00, -3.60986823e-01],\n",
              "       [ 8.31444876e+00,  6.44953177e-01],\n",
              "       [ 7.67196741e+00, -1.34893840e-01],\n",
              "       [-1.45927545e+00,  2.85437643e-02],\n",
              "       [-1.79770574e+00,  4.84385502e-01],\n",
              "       [-2.41694888e+00, -9.27840307e-02],\n",
              "       [-2.26247349e+00, -1.58725251e+00],\n",
              "       [-2.54867836e+00, -4.72204898e-01],\n",
              "       [-2.42996725e+00, -9.66132066e-01],\n",
              "       [-2.44848456e+00,  7.95961954e-01],\n",
              "       [-2.22666513e-01, -1.58467318e+00],\n",
              "       [-1.75020123e+00, -8.21180130e-01],\n",
              "       [-1.95842242e+00, -3.51563753e-01],\n",
              "       [-1.19376031e+00, -2.63445570e+00],\n",
              "       [-1.85892567e+00,  3.19006544e-01],\n",
              "       [-1.15809388e+00, -2.64340991e+00],\n",
              "       [-2.66605725e+00, -6.42504540e-01],\n",
              "       [-3.78367218e-01,  8.66389312e-02],\n",
              "       [-1.20117255e+00,  8.44373592e-02],\n",
              "       [-2.76810246e+00,  3.21995363e-02],\n",
              "       [-7.76854039e-01, -1.65916185e+00],\n",
              "       [-3.49805433e+00, -1.68495616e+00],\n",
              "       [-1.09042788e+00, -1.62658350e+00],\n",
              "       [-3.71589615e+00,  1.04451442e+00],\n",
              "       [-9.97610366e-01, -4.90530602e-01],\n",
              "       [-3.83525931e+00, -1.40595806e+00],\n",
              "       [-2.25741249e+00, -1.42679423e+00],\n",
              "       [-1.25571326e+00, -5.46424197e-01],\n",
              "       [-1.43755762e+00, -1.34424979e-01],\n",
              "       [-2.45906137e+00, -9.35277280e-01],\n",
              "       [-3.51848495e+00,  1.60588866e-01],\n",
              "       [-2.58979871e+00, -1.74611728e-01],\n",
              "       [ 3.07487884e-01, -1.31887146e+00],\n",
              "       [-1.10669179e+00, -1.75225371e+00],\n",
              "       [-6.05524589e-01, -1.94298038e+00],\n",
              "       [-8.98703769e-01, -9.04940034e-01],\n",
              "       [-4.49846635e+00, -8.82749915e-01],\n",
              "       [-2.93397799e+00,  2.73791065e-02],\n",
              "       [-2.10360821e+00,  1.19156767e+00],\n",
              "       [-2.14258208e+00,  8.87797815e-02],\n",
              "       [-2.47945603e+00, -1.94073927e+00],\n",
              "       [-1.32552574e+00, -1.62869550e-01],\n",
              "       [-1.95557887e+00, -1.15434826e+00],\n",
              "       [-2.40157020e+00, -1.59458341e+00],\n",
              "       [-2.29248878e+00, -3.32860296e-01],\n",
              "       [-1.27227224e+00, -1.21458428e+00],\n",
              "       [-2.93176055e-01, -1.79871509e+00],\n",
              "       [-2.00598883e+00, -9.05418042e-01],\n",
              "       [-1.18166311e+00, -5.37570242e-01],\n",
              "       [-1.61615645e+00, -4.70103580e-01],\n",
              "       [-1.42158879e+00, -5.51244626e-01],\n",
              "       [ 4.75973788e-01, -7.99905482e-01],\n",
              "       [-1.54948259e+00, -5.93363582e-01],\n",
              "       [-7.83947399e+00,  2.13973345e+00],\n",
              "       [-5.50747997e+00, -3.58139892e-02],\n",
              "       [-6.29200850e+00,  4.67175777e-01],\n",
              "       [-5.60545633e+00, -3.40738058e-01],\n",
              "       [-6.85055995e+00,  8.29825394e-01],\n",
              "       [-7.41816784e+00, -1.73117995e-01],\n",
              "       [-4.67799541e+00, -4.99095015e-01],\n",
              "       [-6.31692685e+00, -9.68980756e-01],\n",
              "       [-6.32773684e+00, -1.38328993e+00],\n",
              "       [-6.85281335e+00,  2.71758963e+00],\n",
              "       [-4.44072512e+00,  1.34723692e+00],\n",
              "       [-5.45009572e+00, -2.07736942e-01],\n",
              "       [-5.66033713e+00,  8.32713617e-01],\n",
              "       [-5.95823722e+00, -9.40175447e-02],\n",
              "       [-6.75926282e+00,  1.60023206e+00],\n",
              "       [-5.80704331e+00,  2.01019882e+00],\n",
              "       [-5.06601233e+00, -2.62733839e-02],\n",
              "       [-6.60881882e+00,  1.75163587e+00],\n",
              "       [-9.17147486e+00, -7.48255067e-01],\n",
              "       [-4.76453569e+00, -2.15573720e+00],\n",
              "       [-6.27283915e+00,  1.64948141e+00],\n",
              "       [-5.36071189e+00,  6.46120732e-01],\n",
              "       [-7.58119982e+00, -9.80722934e-01],\n",
              "       [-4.37150279e+00, -1.21297458e-01],\n",
              "       [-5.72317531e+00,  1.29327553e+00],\n",
              "       [-5.27915920e+00, -4.24582377e-02],\n",
              "       [-4.08087208e+00,  1.85936572e-01],\n",
              "       [-4.07703640e+00,  5.23238483e-01],\n",
              "       [-6.51910397e+00,  2.96976389e-01],\n",
              "       [-4.58371942e+00, -8.56815813e-01],\n",
              "       [-6.22824009e+00, -7.12719638e-01],\n",
              "       [-5.22048773e+00,  1.46819509e+00],\n",
              "       [-6.80015000e+00,  5.80895175e-01],\n",
              "       [-3.81515972e+00, -9.42985932e-01],\n",
              "       [-5.10748966e+00, -2.13059000e+00],\n",
              "       [-6.79671631e+00,  8.63090395e-01],\n",
              "       [-6.52449599e+00,  2.44503527e+00],\n",
              "       [-4.99550279e+00,  1.87768525e-01],\n",
              "       [-3.93985300e+00,  6.14020389e-01],\n",
              "       [-5.20383090e+00,  1.14476808e+00],\n",
              "       [-6.65308685e+00,  1.80531976e+00],\n",
              "       [-5.10555946e+00,  1.99218201e+00],\n",
              "       [-5.50747997e+00, -3.58139892e-02],\n",
              "       [-6.79601924e+00,  1.46068695e+00],\n",
              "       [-6.84735943e+00,  2.42895067e+00],\n",
              "       [-5.64500346e+00,  1.67771734e+00],\n",
              "       [-5.17956460e+00, -3.63475041e-01],\n",
              "       [-4.96774090e+00,  8.21140550e-01],\n",
              "       [-5.88614539e+00,  2.34509051e+00],\n",
              "       [-4.68315426e+00,  3.32033811e-01]])"
            ]
          },
          "metadata": {},
          "execution_count": 9
        }
      ]
    },
    {
      "cell_type": "code",
      "source": [
        "new_df=pd.DataFrame(lda,columns=['LDA Comp1','LDA Comp2'])\n",
        "new_df"
      ],
      "metadata": {
        "colab": {
          "base_uri": "https://localhost:8080/",
          "height": 423
        },
        "id": "Jk9vYPTRtw-q",
        "outputId": "dcd67ef1-3bd5-46e7-f553-08332dc55975"
      },
      "execution_count": null,
      "outputs": [
        {
          "output_type": "execute_result",
          "data": {
            "text/plain": [
              "     LDA Comp1  LDA Comp2\n",
              "0     8.061800   0.300421\n",
              "1     7.128688  -0.786660\n",
              "2     7.489828  -0.265384\n",
              "3     6.813201  -0.670631\n",
              "4     8.132309   0.514463\n",
              "..         ...        ...\n",
              "145  -5.645003   1.677717\n",
              "146  -5.179565  -0.363475\n",
              "147  -4.967741   0.821141\n",
              "148  -5.886145   2.345091\n",
              "149  -4.683154   0.332034\n",
              "\n",
              "[150 rows x 2 columns]"
            ],
            "text/html": [
              "\n",
              "  <div id=\"df-1baca3c5-577b-4f86-b739-562ed23f3528\">\n",
              "    <div class=\"colab-df-container\">\n",
              "      <div>\n",
              "<style scoped>\n",
              "    .dataframe tbody tr th:only-of-type {\n",
              "        vertical-align: middle;\n",
              "    }\n",
              "\n",
              "    .dataframe tbody tr th {\n",
              "        vertical-align: top;\n",
              "    }\n",
              "\n",
              "    .dataframe thead th {\n",
              "        text-align: right;\n",
              "    }\n",
              "</style>\n",
              "<table border=\"1\" class=\"dataframe\">\n",
              "  <thead>\n",
              "    <tr style=\"text-align: right;\">\n",
              "      <th></th>\n",
              "      <th>LDA Comp1</th>\n",
              "      <th>LDA Comp2</th>\n",
              "    </tr>\n",
              "  </thead>\n",
              "  <tbody>\n",
              "    <tr>\n",
              "      <th>0</th>\n",
              "      <td>8.061800</td>\n",
              "      <td>0.300421</td>\n",
              "    </tr>\n",
              "    <tr>\n",
              "      <th>1</th>\n",
              "      <td>7.128688</td>\n",
              "      <td>-0.786660</td>\n",
              "    </tr>\n",
              "    <tr>\n",
              "      <th>2</th>\n",
              "      <td>7.489828</td>\n",
              "      <td>-0.265384</td>\n",
              "    </tr>\n",
              "    <tr>\n",
              "      <th>3</th>\n",
              "      <td>6.813201</td>\n",
              "      <td>-0.670631</td>\n",
              "    </tr>\n",
              "    <tr>\n",
              "      <th>4</th>\n",
              "      <td>8.132309</td>\n",
              "      <td>0.514463</td>\n",
              "    </tr>\n",
              "    <tr>\n",
              "      <th>...</th>\n",
              "      <td>...</td>\n",
              "      <td>...</td>\n",
              "    </tr>\n",
              "    <tr>\n",
              "      <th>145</th>\n",
              "      <td>-5.645003</td>\n",
              "      <td>1.677717</td>\n",
              "    </tr>\n",
              "    <tr>\n",
              "      <th>146</th>\n",
              "      <td>-5.179565</td>\n",
              "      <td>-0.363475</td>\n",
              "    </tr>\n",
              "    <tr>\n",
              "      <th>147</th>\n",
              "      <td>-4.967741</td>\n",
              "      <td>0.821141</td>\n",
              "    </tr>\n",
              "    <tr>\n",
              "      <th>148</th>\n",
              "      <td>-5.886145</td>\n",
              "      <td>2.345091</td>\n",
              "    </tr>\n",
              "    <tr>\n",
              "      <th>149</th>\n",
              "      <td>-4.683154</td>\n",
              "      <td>0.332034</td>\n",
              "    </tr>\n",
              "  </tbody>\n",
              "</table>\n",
              "<p>150 rows × 2 columns</p>\n",
              "</div>\n",
              "      <button class=\"colab-df-convert\" onclick=\"convertToInteractive('df-1baca3c5-577b-4f86-b739-562ed23f3528')\"\n",
              "              title=\"Convert this dataframe to an interactive table.\"\n",
              "              style=\"display:none;\">\n",
              "        \n",
              "  <svg xmlns=\"http://www.w3.org/2000/svg\" height=\"24px\"viewBox=\"0 0 24 24\"\n",
              "       width=\"24px\">\n",
              "    <path d=\"M0 0h24v24H0V0z\" fill=\"none\"/>\n",
              "    <path d=\"M18.56 5.44l.94 2.06.94-2.06 2.06-.94-2.06-.94-.94-2.06-.94 2.06-2.06.94zm-11 1L8.5 8.5l.94-2.06 2.06-.94-2.06-.94L8.5 2.5l-.94 2.06-2.06.94zm10 10l.94 2.06.94-2.06 2.06-.94-2.06-.94-.94-2.06-.94 2.06-2.06.94z\"/><path d=\"M17.41 7.96l-1.37-1.37c-.4-.4-.92-.59-1.43-.59-.52 0-1.04.2-1.43.59L10.3 9.45l-7.72 7.72c-.78.78-.78 2.05 0 2.83L4 21.41c.39.39.9.59 1.41.59.51 0 1.02-.2 1.41-.59l7.78-7.78 2.81-2.81c.8-.78.8-2.07 0-2.86zM5.41 20L4 18.59l7.72-7.72 1.47 1.35L5.41 20z\"/>\n",
              "  </svg>\n",
              "      </button>\n",
              "      \n",
              "  <style>\n",
              "    .colab-df-container {\n",
              "      display:flex;\n",
              "      flex-wrap:wrap;\n",
              "      gap: 12px;\n",
              "    }\n",
              "\n",
              "    .colab-df-convert {\n",
              "      background-color: #E8F0FE;\n",
              "      border: none;\n",
              "      border-radius: 50%;\n",
              "      cursor: pointer;\n",
              "      display: none;\n",
              "      fill: #1967D2;\n",
              "      height: 32px;\n",
              "      padding: 0 0 0 0;\n",
              "      width: 32px;\n",
              "    }\n",
              "\n",
              "    .colab-df-convert:hover {\n",
              "      background-color: #E2EBFA;\n",
              "      box-shadow: 0px 1px 2px rgba(60, 64, 67, 0.3), 0px 1px 3px 1px rgba(60, 64, 67, 0.15);\n",
              "      fill: #174EA6;\n",
              "    }\n",
              "\n",
              "    [theme=dark] .colab-df-convert {\n",
              "      background-color: #3B4455;\n",
              "      fill: #D2E3FC;\n",
              "    }\n",
              "\n",
              "    [theme=dark] .colab-df-convert:hover {\n",
              "      background-color: #434B5C;\n",
              "      box-shadow: 0px 1px 3px 1px rgba(0, 0, 0, 0.15);\n",
              "      filter: drop-shadow(0px 1px 2px rgba(0, 0, 0, 0.3));\n",
              "      fill: #FFFFFF;\n",
              "    }\n",
              "  </style>\n",
              "\n",
              "      <script>\n",
              "        const buttonEl =\n",
              "          document.querySelector('#df-1baca3c5-577b-4f86-b739-562ed23f3528 button.colab-df-convert');\n",
              "        buttonEl.style.display =\n",
              "          google.colab.kernel.accessAllowed ? 'block' : 'none';\n",
              "\n",
              "        async function convertToInteractive(key) {\n",
              "          const element = document.querySelector('#df-1baca3c5-577b-4f86-b739-562ed23f3528');\n",
              "          const dataTable =\n",
              "            await google.colab.kernel.invokeFunction('convertToInteractive',\n",
              "                                                     [key], {});\n",
              "          if (!dataTable) return;\n",
              "\n",
              "          const docLinkHtml = 'Like what you see? Visit the ' +\n",
              "            '<a target=\"_blank\" href=https://colab.research.google.com/notebooks/data_table.ipynb>data table notebook</a>'\n",
              "            + ' to learn more about interactive tables.';\n",
              "          element.innerHTML = '';\n",
              "          dataTable['output_type'] = 'display_data';\n",
              "          await google.colab.output.renderOutput(dataTable, element);\n",
              "          const docLink = document.createElement('div');\n",
              "          docLink.innerHTML = docLinkHtml;\n",
              "          element.appendChild(docLink);\n",
              "        }\n",
              "      </script>\n",
              "    </div>\n",
              "  </div>\n",
              "  "
            ]
          },
          "metadata": {},
          "execution_count": 10
        }
      ]
    },
    {
      "cell_type": "code",
      "source": [
        "Xaxis=new_df['LDA Comp1']\n",
        "Yaxis=new_df['LDA Comp2']"
      ],
      "metadata": {
        "id": "kpqcDhEQgNA5"
      },
      "execution_count": null,
      "outputs": []
    },
    {
      "cell_type": "code",
      "source": [
        "import matplotlib.pyplot as plt\n",
        "plt.scatter(Xaxis,Yaxis)\n",
        "plt.xlabel('LDA Comp1')\n",
        "plt.ylabel('LDA Comp2')\n",
        "plt.show()"
      ],
      "metadata": {
        "colab": {
          "base_uri": "https://localhost:8080/",
          "height": 283
        },
        "id": "CdVLWdrYt4dO",
        "outputId": "67df17d8-b4c0-4b12-abfc-33e5edd6aa3a"
      },
      "execution_count": null,
      "outputs": [
        {
          "output_type": "display_data",
          "data": {
            "text/plain": [
              "<Figure size 432x288 with 1 Axes>"
            ],
            "image/png": "[encoded data removed]"
          },
          "metadata": {
            "needs_background": "light"
          }
        }
      ]
    },
    {
      "cell_type": "code",
      "source": [
        "from sklearn.cluster import KMeans\n",
        "model=KMeans(n_clusters=2,max_iter=100,random_state=0)\n",
        "model=model.fit(new_df)"
      ],
      "metadata": {
        "id": "CAkPU19juNRo"
      },
      "execution_count": null,
      "outputs": []
    },
    {
      "cell_type": "code",
      "source": [
        "centres=model.cluster_centers_\n",
        "centres"
      ],
      "metadata": {
        "colab": {
          "base_uri": "https://localhost:8080/"
        },
        "id": "ywwps--fwDkR",
        "outputId": "b9c5d9f8-2e1a-4c4d-8747-7de98a01087f"
      },
      "execution_count": null,
      "outputs": [
        {
          "output_type": "execute_result",
          "data": {
            "text/plain": [
              "array([[ 7.60759993,  0.21513302],\n",
              "       [-3.80379996, -0.10756651]])"
            ]
          },
          "metadata": {},
          "execution_count": 15
        }
      ]
    },
    {
      "cell_type": "code",
      "source": [
        "labels=model.labels_\n",
        "labels"
      ],
      "metadata": {
        "colab": {
          "base_uri": "https://localhost:8080/"
        },
        "id": "eS4Aw2XTwGEp",
        "outputId": "2e3991e3-af9e-4bb7-d2a1-0737f7eb3e6f"
      },
      "execution_count": null,
      "outputs": [
        {
          "output_type": "execute_result",
          "data": {
            "text/plain": [
              "array([0, 0, 0, 0, 0, 0, 0, 0, 0, 0, 0, 0, 0, 0, 0, 0, 0, 0, 0, 0, 0, 0,\n",
              "       0, 0, 0, 0, 0, 0, 0, 0, 0, 0, 0, 0, 0, 0, 0, 0, 0, 0, 0, 0, 0, 0,\n",
              "       0, 0, 0, 0, 0, 0, 1, 1, 1, 1, 1, 1, 1, 1, 1, 1, 1, 1, 1, 1, 1, 1,\n",
              "       1, 1, 1, 1, 1, 1, 1, 1, 1, 1, 1, 1, 1, 1, 1, 1, 1, 1, 1, 1, 1, 1,\n",
              "       1, 1, 1, 1, 1, 1, 1, 1, 1, 1, 1, 1, 1, 1, 1, 1, 1, 1, 1, 1, 1, 1,\n",
              "       1, 1, 1, 1, 1, 1, 1, 1, 1, 1, 1, 1, 1, 1, 1, 1, 1, 1, 1, 1, 1, 1,\n",
              "       1, 1, 1, 1, 1, 1, 1, 1, 1, 1, 1, 1, 1, 1, 1, 1, 1, 1], dtype=int32)"
            ]
          },
          "metadata": {},
          "execution_count": 16
        }
      ]
    },
    {
      "cell_type": "code",
      "source": [
        "plt.scatter(Xaxis,Yaxis,c=labels,cmap='rainbow')\n",
        "plt.xlabel('LDA Comp1')\n",
        "plt.ylabel('LDA Comp2')\n",
        "plt.scatter(centres[0][0],centres[0][1],color='orange')\n",
        "plt.scatter(centres[1][0],centres[1][1],color='green')\n",
        "plt.show()"
      ],
      "metadata": {
        "colab": {
          "base_uri": "https://localhost:8080/",
          "height": 283
        },
        "id": "KOKlPd4qwIu0",
        "outputId": "e2723d74-9631-4a80-e8ba-358358bef4ca"
      },
      "execution_count": null,
      "outputs": [
        {
          "output_type": "display_data",
          "data": {
            "text/plain": [
              "<Figure size 432x288 with 1 Axes>"
            ],
            "image/png": "[encoded data removed]"
          },
          "metadata": {
            "needs_background": "light"
          }
        }
      ]
    }
  ]
}