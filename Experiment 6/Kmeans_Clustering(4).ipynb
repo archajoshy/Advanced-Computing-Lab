{
  "nbformat": 4,
  "nbformat_minor": 0,
  "metadata": {
    "colab": {
      "name": "Kmeans_Clustering(4).ipynb",
      "provenance": [],
      "authorship_tag": "ABX9TyOVyShmdVrVJ5UJ4dLIBZ8o",
      "include_colab_link": true
    },
    "kernelspec": {
      "name": "python3",
      "display_name": "Python 3"
    },
    "language_info": {
      "name": "python"
    }
  },
  "cells": [
    {
      "cell_type": "markdown",
      "metadata": {
        "id": "view-in-github",
        "colab_type": "text"
      },
      "source": [
        "<a href=\"https://colab.research.google.com/github/archajoshy/Advanced-Computing-Lab/blob/main/Experiment%206/Kmeans_Clustering(4).ipynb\" target=\"_parent\"><img src=\"https://colab.research.google.com/assets/colab-badge.svg\" alt=\"Open In Colab\"/></a>"
      ]
    },
    {
      "cell_type": "code",
      "execution_count": null,
      "metadata": {
        "id": "-4Pw01T-j29G"
      },
      "outputs": [],
      "source": [
        "import pandas as pd\n",
        "file=pd.read_csv(\"/content/glass_data.csv\")\n",
        "\n",
        "x=file[['column_b',\t'column_c',\t'column_d',\t'column_e',\t'column_f',\t'column_g',\t'column_h',\t'column_i',\t'column_j']]\n",
        "y=file['column_k']"
      ]
    },
    {
      "cell_type": "code",
      "source": [
        "from sklearn.discriminant_analysis import LinearDiscriminantAnalysis\n",
        "lda = LinearDiscriminantAnalysis(n_components=2)"
      ],
      "metadata": {
        "id": "EAalNny0lHjn"
      },
      "execution_count": null,
      "outputs": []
    },
    {
      "cell_type": "code",
      "source": [
        "lda=lda.fit_transform(x,y)\n"
      ],
      "metadata": {
        "id": "TLH25IBjlKrt"
      },
      "execution_count": null,
      "outputs": []
    },
    {
      "cell_type": "code",
      "source": [
        "new_df=pd.DataFrame(lda,columns=['LDA Comp1','LDA Comp2'])\n",
        "new_df"
      ],
      "metadata": {
        "colab": {
          "base_uri": "https://localhost:8080/",
          "height": 423
        },
        "id": "pfFnLBlVlMwd",
        "outputId": "373e927e-db8b-4656-c802-0bfeba2c96f6"
      },
      "execution_count": null,
      "outputs": [
        {
          "output_type": "execute_result",
          "data": {
            "text/plain": [
              "     LDA Comp1  LDA Comp2\n",
              "0    -1.843629   1.070204\n",
              "1    -0.035910   1.007550\n",
              "2    -0.329413   0.482676\n",
              "3    -1.566863  -0.262982\n",
              "4    -0.747609   0.644428\n",
              "..         ...        ...\n",
              "209   5.425916  -0.621620\n",
              "210   5.924995   1.508267\n",
              "211   6.914625   1.248613\n",
              "212   5.748908   1.477356\n",
              "213   5.805404   1.186632\n",
              "\n",
              "[214 rows x 2 columns]"
            ],
            "text/html": [
              "\n",
              "  <div id=\"df-2c26a70f-a535-452d-b7f0-44fddcc61e4d\">\n",
              "    <div class=\"colab-df-container\">\n",
              "      <div>\n",
              "<style scoped>\n",
              "    .dataframe tbody tr th:only-of-type {\n",
              "        vertical-align: middle;\n",
              "    }\n",
              "\n",
              "    .dataframe tbody tr th {\n",
              "        vertical-align: top;\n",
              "    }\n",
              "\n",
              "    .dataframe thead th {\n",
              "        text-align: right;\n",
              "    }\n",
              "</style>\n",
              "<table border=\"1\" class=\"dataframe\">\n",
              "  <thead>\n",
              "    <tr style=\"text-align: right;\">\n",
              "      <th></th>\n",
              "      <th>LDA Comp1</th>\n",
              "      <th>LDA Comp2</th>\n",
              "    </tr>\n",
              "  </thead>\n",
              "  <tbody>\n",
              "    <tr>\n",
              "      <th>0</th>\n",
              "      <td>-1.843629</td>\n",
              "      <td>1.070204</td>\n",
              "    </tr>\n",
              "    <tr>\n",
              "      <th>1</th>\n",
              "      <td>-0.035910</td>\n",
              "      <td>1.007550</td>\n",
              "    </tr>\n",
              "    <tr>\n",
              "      <th>2</th>\n",
              "      <td>-0.329413</td>\n",
              "      <td>0.482676</td>\n",
              "    </tr>\n",
              "    <tr>\n",
              "      <th>3</th>\n",
              "      <td>-1.566863</td>\n",
              "      <td>-0.262982</td>\n",
              "    </tr>\n",
              "    <tr>\n",
              "      <th>4</th>\n",
              "      <td>-0.747609</td>\n",
              "      <td>0.644428</td>\n",
              "    </tr>\n",
              "    <tr>\n",
              "      <th>...</th>\n",
              "      <td>...</td>\n",
              "      <td>...</td>\n",
              "    </tr>\n",
              "    <tr>\n",
              "      <th>209</th>\n",
              "      <td>5.425916</td>\n",
              "      <td>-0.621620</td>\n",
              "    </tr>\n",
              "    <tr>\n",
              "      <th>210</th>\n",
              "      <td>5.924995</td>\n",
              "      <td>1.508267</td>\n",
              "    </tr>\n",
              "    <tr>\n",
              "      <th>211</th>\n",
              "      <td>6.914625</td>\n",
              "      <td>1.248613</td>\n",
              "    </tr>\n",
              "    <tr>\n",
              "      <th>212</th>\n",
              "      <td>5.748908</td>\n",
              "      <td>1.477356</td>\n",
              "    </tr>\n",
              "    <tr>\n",
              "      <th>213</th>\n",
              "      <td>5.805404</td>\n",
              "      <td>1.186632</td>\n",
              "    </tr>\n",
              "  </tbody>\n",
              "</table>\n",
              "<p>214 rows × 2 columns</p>\n",
              "</div>\n",
              "      <button class=\"colab-df-convert\" onclick=\"convertToInteractive('df-2c26a70f-a535-452d-b7f0-44fddcc61e4d')\"\n",
              "              title=\"Convert this dataframe to an interactive table.\"\n",
              "              style=\"display:none;\">\n",
              "        \n",
              "  <svg xmlns=\"http://www.w3.org/2000/svg\" height=\"24px\"viewBox=\"0 0 24 24\"\n",
              "       width=\"24px\">\n",
              "    <path d=\"M0 0h24v24H0V0z\" fill=\"none\"/>\n",
              "    <path d=\"M18.56 5.44l.94 2.06.94-2.06 2.06-.94-2.06-.94-.94-2.06-.94 2.06-2.06.94zm-11 1L8.5 8.5l.94-2.06 2.06-.94-2.06-.94L8.5 2.5l-.94 2.06-2.06.94zm10 10l.94 2.06.94-2.06 2.06-.94-2.06-.94-.94-2.06-.94 2.06-2.06.94z\"/><path d=\"M17.41 7.96l-1.37-1.37c-.4-.4-.92-.59-1.43-.59-.52 0-1.04.2-1.43.59L10.3 9.45l-7.72 7.72c-.78.78-.78 2.05 0 2.83L4 21.41c.39.39.9.59 1.41.59.51 0 1.02-.2 1.41-.59l7.78-7.78 2.81-2.81c.8-.78.8-2.07 0-2.86zM5.41 20L4 18.59l7.72-7.72 1.47 1.35L5.41 20z\"/>\n",
              "  </svg>\n",
              "      </button>\n",
              "      \n",
              "  <style>\n",
              "    .colab-df-container {\n",
              "      display:flex;\n",
              "      flex-wrap:wrap;\n",
              "      gap: 12px;\n",
              "    }\n",
              "\n",
              "    .colab-df-convert {\n",
              "      background-color: #E8F0FE;\n",
              "      border: none;\n",
              "      border-radius: 50%;\n",
              "      cursor: pointer;\n",
              "      display: none;\n",
              "      fill: #1967D2;\n",
              "      height: 32px;\n",
              "      padding: 0 0 0 0;\n",
              "      width: 32px;\n",
              "    }\n",
              "\n",
              "    .colab-df-convert:hover {\n",
              "      background-color: #E2EBFA;\n",
              "      box-shadow: 0px 1px 2px rgba(60, 64, 67, 0.3), 0px 1px 3px 1px rgba(60, 64, 67, 0.15);\n",
              "      fill: #174EA6;\n",
              "    }\n",
              "\n",
              "    [theme=dark] .colab-df-convert {\n",
              "      background-color: #3B4455;\n",
              "      fill: #D2E3FC;\n",
              "    }\n",
              "\n",
              "    [theme=dark] .colab-df-convert:hover {\n",
              "      background-color: #434B5C;\n",
              "      box-shadow: 0px 1px 3px 1px rgba(0, 0, 0, 0.15);\n",
              "      filter: drop-shadow(0px 1px 2px rgba(0, 0, 0, 0.3));\n",
              "      fill: #FFFFFF;\n",
              "    }\n",
              "  </style>\n",
              "\n",
              "      <script>\n",
              "        const buttonEl =\n",
              "          document.querySelector('#df-2c26a70f-a535-452d-b7f0-44fddcc61e4d button.colab-df-convert');\n",
              "        buttonEl.style.display =\n",
              "          google.colab.kernel.accessAllowed ? 'block' : 'none';\n",
              "\n",
              "        async function convertToInteractive(key) {\n",
              "          const element = document.querySelector('#df-2c26a70f-a535-452d-b7f0-44fddcc61e4d');\n",
              "          const dataTable =\n",
              "            await google.colab.kernel.invokeFunction('convertToInteractive',\n",
              "                                                     [key], {});\n",
              "          if (!dataTable) return;\n",
              "\n",
              "          const docLinkHtml = 'Like what you see? Visit the ' +\n",
              "            '<a target=\"_blank\" href=https://colab.research.google.com/notebooks/data_table.ipynb>data table notebook</a>'\n",
              "            + ' to learn more about interactive tables.';\n",
              "          element.innerHTML = '';\n",
              "          dataTable['output_type'] = 'display_data';\n",
              "          await google.colab.output.renderOutput(dataTable, element);\n",
              "          const docLink = document.createElement('div');\n",
              "          docLink.innerHTML = docLinkHtml;\n",
              "          element.appendChild(docLink);\n",
              "        }\n",
              "      </script>\n",
              "    </div>\n",
              "  </div>\n",
              "  "
            ]
          },
          "metadata": {},
          "execution_count": 20
        }
      ]
    },
    {
      "cell_type": "code",
      "source": [
        "Xaxis=new_df['LDA Comp1']\n",
        "Yaxis=new_df['LDA Comp2']"
      ],
      "metadata": {
        "id": "ixNo2eVClO3r"
      },
      "execution_count": null,
      "outputs": []
    },
    {
      "cell_type": "code",
      "source": [
        "import matplotlib.pyplot as plt\n",
        "plt.scatter(Xaxis,Yaxis)\n",
        "plt.xlabel('LDA Comp1')\n",
        "plt.ylabel('LDA Comp2')\n",
        "plt.show()"
      ],
      "metadata": {
        "colab": {
          "base_uri": "https://localhost:8080/",
          "height": 496
        },
        "id": "EpBRx6Dvllei",
        "outputId": "649c17a2-26e9-43b0-ccca-c81f4ef52221"
      },
      "execution_count": null,
      "outputs": [
        {
          "output_type": "display_data",
          "data": {
            "text/plain": [
              "<Figure size 720x576 with 1 Axes>"
            ],
            "image/png": "[encoded data removed]"
          },
          "metadata": {
            "needs_background": "light"
          }
        }
      ]
    },
    {
      "cell_type": "code",
      "source": [
        "from sklearn.cluster import KMeans\n",
        "model=KMeans(n_clusters=7,max_iter=300,random_state=0)\n",
        "model=model.fit(new_df)"
      ],
      "metadata": {
        "id": "mIW-CWaElnkI"
      },
      "execution_count": null,
      "outputs": []
    },
    {
      "cell_type": "code",
      "source": [
        "centres=model.cluster_centers_\n",
        "centres"
      ],
      "metadata": {
        "colab": {
          "base_uri": "https://localhost:8080/"
        },
        "id": "6_Ol7MgClpe5",
        "outputId": "583709a3-e9da-4a63-a499-65349f73024b"
      },
      "execution_count": null,
      "outputs": [
        {
          "output_type": "execute_result",
          "data": {
            "text/plain": [
              "array([[ 5.55258581,  0.60550294],\n",
              "       [-1.70752675,  0.56741839],\n",
              "       [ 1.44167933, -1.55067944],\n",
              "       [ 2.1052958 ,  0.82630802],\n",
              "       [ 2.2655892 , -7.64086616],\n",
              "       [-0.80953594,  0.11099858],\n",
              "       [-1.16367   , -2.53714695]])"
            ]
          },
          "metadata": {},
          "execution_count": 28
        }
      ]
    },
    {
      "cell_type": "code",
      "source": [
        "labels=model.labels_\n",
        "labels"
      ],
      "metadata": {
        "colab": {
          "base_uri": "https://localhost:8080/"
        },
        "id": "A9xrtOs0lsYk",
        "outputId": "c1e56b8f-535a-4de1-9429-50aa01a83ca7"
      },
      "execution_count": null,
      "outputs": [
        {
          "output_type": "execute_result",
          "data": {
            "text/plain": [
              "array([1, 5, 5, 1, 5, 5, 5, 1, 5, 5, 5, 1, 5, 5, 5, 5, 1, 1, 1, 5, 5, 1,\n",
              "       1, 5, 1, 5, 5, 5, 5, 5, 1, 1, 1, 5, 5, 1, 5, 5, 1, 1, 1, 5, 5, 1,\n",
              "       1, 5, 5, 5, 1, 5, 1, 5, 5, 5, 5, 5, 1, 5, 5, 1, 1, 5, 1, 1, 1, 1,\n",
              "       1, 1, 1, 1, 5, 1, 5, 5, 5, 5, 5, 5, 5, 5, 5, 5, 5, 5, 2, 5, 5, 5,\n",
              "       5, 5, 1, 5, 5, 5, 5, 5, 1, 1, 5, 5, 5, 6, 1, 1, 5, 6, 2, 6, 2, 3,\n",
              "       6, 6, 6, 5, 1, 5, 1, 5, 5, 5, 5, 5, 5, 5, 5, 5, 1, 5, 2, 2, 2, 2,\n",
              "       1, 5, 5, 1, 1, 5, 5, 5, 5, 1, 5, 5, 1, 1, 1, 1, 5, 6, 5, 1, 1, 1,\n",
              "       1, 1, 1, 1, 5, 5, 5, 1, 1, 0, 2, 6, 6, 2, 2, 2, 2, 4, 4, 2, 2, 2,\n",
              "       5, 5, 3, 3, 3, 3, 2, 3, 0, 3, 3, 5, 2, 3, 3, 0, 0, 0, 0, 0, 0, 0,\n",
              "       0, 0, 0, 2, 0, 0, 0, 0, 0, 0, 0, 0, 0, 0, 0, 0], dtype=int32)"
            ]
          },
          "metadata": {},
          "execution_count": 29
        }
      ]
    },
    {
      "cell_type": "code",
      "source": [
        "from matplotlib.pyplot import figure\n",
        "plt.scatter(Xaxis,Yaxis,c=labels,cmap='rainbow')\n",
        "plt.xlabel('LDA Comp1')\n",
        "plt.ylabel('LDA Comp2')\n",
        "plt.scatter(centres[0][0],centres[0][1],color='orange')\n",
        "plt.scatter(centres[1][0],centres[1][1],color='green')\n",
        "plt.scatter(centres[2][0],centres[2][1],color='yellow')\n",
        "plt.scatter(centres[3][0],centres[3][1],color='green')\n",
        "plt.scatter(centres[4][0],centres[4][1],color='orange')\n",
        "plt.scatter(centres[5][0],centres[5][1],color='green')\n",
        "plt.scatter(centres[6][0],centres[6][1],color='orange')\n",
        "plt.rcParams['figure.figsize']=(10,8)\n",
        "plt.show()"
      ],
      "metadata": {
        "colab": {
          "base_uri": "https://localhost:8080/",
          "height": 496
        },
        "id": "glDN2KGdlxKJ",
        "outputId": "a2b4b140-10ad-4486-c2ac-84970e8c81c2"
      },
      "execution_count": null,
      "outputs": [
        {
          "output_type": "display_data",
          "data": {
            "text/plain": [
              "<Figure size 720x576 with 1 Axes>"
            ],
            "image/png": "[encoded data removed]"
          },
          "metadata": {
            "needs_background": "light"
          }
        }
      ]
    }
  ]
}