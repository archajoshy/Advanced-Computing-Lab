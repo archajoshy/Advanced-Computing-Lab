{
  "nbformat": 4,
  "nbformat_minor": 0,
  "metadata": {
    "colab": {
      "name": "NaiveBayes_1.ipynb",
      "provenance": [],
      "collapsed_sections": [],
      "authorship_tag": "ABX9TyNN5P2KtjEj67nuixTaz9bu",
      "include_colab_link": true
    },
    "kernelspec": {
      "name": "python3",
      "display_name": "Python 3"
    },
    "language_info": {
      "name": "python"
    }
  },
  "cells": [
    {
      "cell_type": "markdown",
      "metadata": {
        "id": "view-in-github",
        "colab_type": "text"
      },
      "source": [
        "<a href=\"https://colab.research.google.com/github/archajoshy/Advanced-Computing-Lab/blob/main/Experiment%203/NaiveBayes_1.ipynb\" target=\"_parent\"><img src=\"https://colab.research.google.com/assets/colab-badge.svg\" alt=\"Open In Colab\"/></a>"
      ]
    },
    {
      "cell_type": "code",
      "execution_count": null,
      "metadata": {
        "id": "9LfUpixQJOCW"
      },
      "outputs": [],
      "source": [
        "from sklearn.datasets import load_wine\n",
        "data=load_wine()\n",
        "y=data.target\n",
        "x=data.data"
      ]
    },
    {
      "cell_type": "code",
      "source": [
        "from sklearn.model_selection import train_test_split\n",
        "xtrain,xtest,ytrain,ytest=train_test_split(x,y,train_size=0.75)\n",
        "\n"
      ],
      "metadata": {
        "id": "eIpFaRZCXU9v"
      },
      "execution_count": null,
      "outputs": []
    },
    {
      "cell_type": "code",
      "source": [
        "from sklearn.naive_bayes import GaussianNB\n",
        "ml_1=GaussianNB()\n",
        "ml_1=ml_1.fit(xtrain,ytrain)"
      ],
      "metadata": {
        "id": "qe0VnpThYT3C"
      },
      "execution_count": null,
      "outputs": []
    },
    {
      "cell_type": "code",
      "source": [
        "from sklearn.naive_bayes import MultinomialNB\n",
        "ml_2=MultinomialNB()\n",
        "ml_2=ml_2.fit(xtrain,ytrain)"
      ],
      "metadata": {
        "id": "uyefQiPAaNqj"
      },
      "execution_count": null,
      "outputs": []
    },
    {
      "cell_type": "code",
      "source": [
        "from sklearn.naive_bayes import BernoulliNB\n",
        "ml_3=BernoulliNB(binarize=2)\n",
        "ml_3=ml_3.fit(xtrain,ytrain)"
      ],
      "metadata": {
        "id": "_9qfflV6T6bP"
      },
      "execution_count": null,
      "outputs": []
    },
    {
      "cell_type": "code",
      "source": [
        "res_1=ml_1.predict(xtest)\n",
        "res_2=ml_2.predict(xtest)\n",
        "res_3=ml_3.predict(xtest)"
      ],
      "metadata": {
        "id": "k3JHXeFcT_fb"
      },
      "execution_count": null,
      "outputs": []
    },
    {
      "cell_type": "code",
      "source": [
        "from sklearn.metrics import accuracy_score\n",
        "accuracy_1=accuracy_score(ytest,res_1)\n",
        "print(\"Gaussian :\",accuracy_1*100)\n",
        "accuracy_2=accuracy_score(ytest,res_2)\n",
        "print(\"Multinomial : \",accuracy_2*100)\n",
        "accuracy_3=accuracy_score(ytest,res_3)\n",
        "print(\"Bernoulli : \",accuracy_3*100)\n"
      ],
      "metadata": {
        "colab": {
          "base_uri": "https://localhost:8080/"
        },
        "id": "bYMSR8ybZor4",
        "outputId": "3d68ac93-ed2c-43b9-fb65-521a9ef0c1bb"
      },
      "execution_count": null,
      "outputs": [
        {
          "output_type": "stream",
          "name": "stdout",
          "text": [
            "Gaussian : 100.0\n",
            "Multinomial :  91.11111111111111\n",
            "Bernoulli :  84.44444444444444\n"
          ]
        }
      ]
    }
  ]
}