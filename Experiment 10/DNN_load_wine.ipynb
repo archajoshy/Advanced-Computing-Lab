{
  "nbformat": 4,
  "nbformat_minor": 0,
  "metadata": {
    "colab": {
      "name": "DNN_load_wine.ipynb",
      "provenance": [],
      "collapsed_sections": [],
      "authorship_tag": "ABX9TyOPRIASd30OwXKuiUskmvV7",
      "include_colab_link": true
    },
    "kernelspec": {
      "name": "python3",
      "display_name": "Python 3"
    },
    "language_info": {
      "name": "python"
    }
  },
  "cells": [
    {
      "cell_type": "markdown",
      "metadata": {
        "id": "view-in-github",
        "colab_type": "text"
      },
      "source": [
        "<a href=\"https://colab.research.google.com/github/archajoshy/Advanced-Computing-Lab/blob/main/Experiment%2010/DNN_load_wine.ipynb\" target=\"_parent\"><img src=\"https://colab.research.google.com/assets/colab-badge.svg\" alt=\"Open In Colab\"/></a>"
      ]
    },
    {
      "cell_type": "code",
      "execution_count": 1,
      "metadata": {
        "id": "oLIo2muBmJIL"
      },
      "outputs": [],
      "source": [
        "from sklearn.datasets import load_wine\n",
        "data=load_wine()\n",
        "x=data.data\n",
        "y=data.target"
      ]
    },
    {
      "cell_type": "code",
      "source": [
        "x.shape"
      ],
      "metadata": {
        "colab": {
          "base_uri": "https://localhost:8080/"
        },
        "id": "-ezKpBjo0PLf",
        "outputId": "e4d3434f-0724-463e-bdb5-199c6677d6b1"
      },
      "execution_count": 2,
      "outputs": [
        {
          "output_type": "execute_result",
          "data": {
            "text/plain": [
              "(178, 13)"
            ]
          },
          "metadata": {},
          "execution_count": 2
        }
      ]
    },
    {
      "cell_type": "code",
      "source": [
        "y"
      ],
      "metadata": {
        "colab": {
          "base_uri": "https://localhost:8080/"
        },
        "id": "Y7P4U368pB-U",
        "outputId": "54fb9627-2c94-4a4e-8ff3-4eda7b32f47b"
      },
      "execution_count": 3,
      "outputs": [
        {
          "output_type": "execute_result",
          "data": {
            "text/plain": [
              "array([0, 0, 0, 0, 0, 0, 0, 0, 0, 0, 0, 0, 0, 0, 0, 0, 0, 0, 0, 0, 0, 0,\n",
              "       0, 0, 0, 0, 0, 0, 0, 0, 0, 0, 0, 0, 0, 0, 0, 0, 0, 0, 0, 0, 0, 0,\n",
              "       0, 0, 0, 0, 0, 0, 0, 0, 0, 0, 0, 0, 0, 0, 0, 1, 1, 1, 1, 1, 1, 1,\n",
              "       1, 1, 1, 1, 1, 1, 1, 1, 1, 1, 1, 1, 1, 1, 1, 1, 1, 1, 1, 1, 1, 1,\n",
              "       1, 1, 1, 1, 1, 1, 1, 1, 1, 1, 1, 1, 1, 1, 1, 1, 1, 1, 1, 1, 1, 1,\n",
              "       1, 1, 1, 1, 1, 1, 1, 1, 1, 1, 1, 1, 1, 1, 1, 1, 1, 1, 1, 1, 2, 2,\n",
              "       2, 2, 2, 2, 2, 2, 2, 2, 2, 2, 2, 2, 2, 2, 2, 2, 2, 2, 2, 2, 2, 2,\n",
              "       2, 2, 2, 2, 2, 2, 2, 2, 2, 2, 2, 2, 2, 2, 2, 2, 2, 2, 2, 2, 2, 2,\n",
              "       2, 2])"
            ]
          },
          "metadata": {},
          "execution_count": 3
        }
      ]
    },
    {
      "cell_type": "code",
      "source": [
        "from sklearn.model_selection import train_test_split\n",
        "x_train, x_test, y_train, y_test = train_test_split(x, y, test_size=0.2)"
      ],
      "metadata": {
        "id": "ohhoFXRomf6x"
      },
      "execution_count": 4,
      "outputs": []
    },
    {
      "cell_type": "code",
      "source": [
        "import tensorflow as tf\n",
        "from tensorflow import keras"
      ],
      "metadata": {
        "id": "agH4VddZm_8T"
      },
      "execution_count": 5,
      "outputs": []
    },
    {
      "cell_type": "code",
      "source": [
        "model=keras.models.Sequential()"
      ],
      "metadata": {
        "id": "8IqfSvq7nGs9"
      },
      "execution_count": 6,
      "outputs": []
    },
    {
      "cell_type": "code",
      "source": [
        "model.add(keras.layers.Dense(units=25,activation='relu',input_dim=x.shape[1]))"
      ],
      "metadata": {
        "id": "LgzS5iVenL0P"
      },
      "execution_count": 7,
      "outputs": []
    },
    {
      "cell_type": "code",
      "source": [
        "model.add(keras.layers.Dense(units=20,activation='relu'))"
      ],
      "metadata": {
        "id": "7vPVYmfFncrh"
      },
      "execution_count": 8,
      "outputs": []
    },
    {
      "cell_type": "code",
      "source": [
        "model.add(keras.layers.BatchNormalization(axis=-1,momentum=0.99,epsilon=0.001))"
      ],
      "metadata": {
        "id": "EKLkZpf-jKjd"
      },
      "execution_count": 9,
      "outputs": []
    },
    {
      "cell_type": "code",
      "source": [
        "model.add(keras.layers.Dropout(0.8))"
      ],
      "metadata": {
        "id": "jHMSJU2jjPLT"
      },
      "execution_count": 11,
      "outputs": []
    },
    {
      "cell_type": "code",
      "source": [
        "model.add(keras.layers.Dense(units=15,activation='relu'))"
      ],
      "metadata": {
        "id": "BwSPot2DpkPa"
      },
      "execution_count": 12,
      "outputs": []
    },
    {
      "cell_type": "code",
      "source": [
        "model.add(keras.layers.Dense(units=10,activation='relu'))"
      ],
      "metadata": {
        "id": "c3M-UXix7Zq9"
      },
      "execution_count": 13,
      "outputs": []
    },
    {
      "cell_type": "code",
      "source": [
        "model.add(keras.layers.Dense(units=3,activation='softmax'))"
      ],
      "metadata": {
        "id": "xPf85esMniSJ"
      },
      "execution_count": 14,
      "outputs": []
    },
    {
      "cell_type": "code",
      "source": [
        "callback = tf.keras.callbacks.EarlyStopping(monitor='accuracy', patience=3)"
      ],
      "metadata": {
        "id": "RLkbvk0QjGMD"
      },
      "execution_count": 15,
      "outputs": []
    },
    {
      "cell_type": "code",
      "source": [
        "model.summary()"
      ],
      "metadata": {
        "colab": {
          "base_uri": "https://localhost:8080/"
        },
        "id": "5ovtcr-7nuA-",
        "outputId": "37108d92-da65-49b3-fd56-3172ff26f6e7"
      },
      "execution_count": 16,
      "outputs": [
        {
          "output_type": "stream",
          "name": "stdout",
          "text": [
            "Model: \"sequential\"\n",
            "_________________________________________________________________\n",
            " Layer (type)                Output Shape              Param #   \n",
            "=================================================================\n",
            " dense (Dense)               (None, 25)                350       \n",
            "                                                                 \n",
            " dense_1 (Dense)             (None, 20)                520       \n",
            "                                                                 \n",
            " batch_normalization (BatchN  (None, 20)               80        \n",
            " ormalization)                                                   \n",
            "                                                                 \n",
            " dropout (Dropout)           (None, 20)                0         \n",
            "                                                                 \n",
            " dense_2 (Dense)             (None, 15)                315       \n",
            "                                                                 \n",
            " dense_3 (Dense)             (None, 10)                160       \n",
            "                                                                 \n",
            " dense_4 (Dense)             (None, 3)                 33        \n",
            "                                                                 \n",
            "=================================================================\n",
            "Total params: 1,458\n",
            "Trainable params: 1,418\n",
            "Non-trainable params: 40\n",
            "_________________________________________________________________\n"
          ]
        }
      ]
    },
    {
      "cell_type": "code",
      "source": [
        "model.compile(loss='sparse_categorical_crossentropy',optimizer='adam',metrics=['accuracy'])"
      ],
      "metadata": {
        "id": "gZXgnZSfoGWr"
      },
      "execution_count": 17,
      "outputs": []
    },
    {
      "cell_type": "code",
      "source": [
        "model.fit(x_train,y_train,epochs=50,callbacks=[callback])\n"
      ],
      "metadata": {
        "colab": {
          "base_uri": "https://localhost:8080/"
        },
        "id": "oVjyx9W0ogNt",
        "outputId": "11d88fc9-016f-48d1-8d8a-39467ad3a9b8"
      },
      "execution_count": 18,
      "outputs": [
        {
          "output_type": "stream",
          "name": "stdout",
          "text": [
            "Epoch 1/50\n",
            "5/5 [==============================] - 2s 6ms/step - loss: 1.2103 - accuracy: 0.3873\n",
            "Epoch 2/50\n",
            "5/5 [==============================] - 0s 7ms/step - loss: 1.1330 - accuracy: 0.3380\n",
            "Epoch 3/50\n",
            "5/5 [==============================] - 0s 7ms/step - loss: 1.2249 - accuracy: 0.3099\n",
            "Epoch 4/50\n",
            "5/5 [==============================] - 0s 9ms/step - loss: 1.0895 - accuracy: 0.4225\n",
            "Epoch 5/50\n",
            "5/5 [==============================] - 0s 5ms/step - loss: 1.0615 - accuracy: 0.4507\n",
            "Epoch 6/50\n",
            "5/5 [==============================] - 0s 7ms/step - loss: 1.0106 - accuracy: 0.4718\n",
            "Epoch 7/50\n",
            "5/5 [==============================] - 0s 7ms/step - loss: 1.0430 - accuracy: 0.4718\n",
            "Epoch 8/50\n",
            "5/5 [==============================] - 0s 6ms/step - loss: 1.0302 - accuracy: 0.4789\n",
            "Epoch 9/50\n",
            "5/5 [==============================] - 0s 6ms/step - loss: 0.9694 - accuracy: 0.5000\n",
            "Epoch 10/50\n",
            "5/5 [==============================] - 0s 6ms/step - loss: 1.0078 - accuracy: 0.4789\n",
            "Epoch 11/50\n",
            "5/5 [==============================] - 0s 8ms/step - loss: 0.9641 - accuracy: 0.4789\n",
            "Epoch 12/50\n",
            "5/5 [==============================] - 0s 6ms/step - loss: 0.9068 - accuracy: 0.5563\n",
            "Epoch 13/50\n",
            "5/5 [==============================] - 0s 6ms/step - loss: 0.9946 - accuracy: 0.5141\n",
            "Epoch 14/50\n",
            "5/5 [==============================] - 0s 6ms/step - loss: 0.9097 - accuracy: 0.5634\n",
            "Epoch 15/50\n",
            "5/5 [==============================] - 0s 6ms/step - loss: 0.8794 - accuracy: 0.5986\n",
            "Epoch 16/50\n",
            "5/5 [==============================] - 0s 6ms/step - loss: 0.8721 - accuracy: 0.5986\n",
            "Epoch 17/50\n",
            "5/5 [==============================] - 0s 6ms/step - loss: 0.8824 - accuracy: 0.5915\n",
            "Epoch 18/50\n",
            "5/5 [==============================] - 0s 6ms/step - loss: 0.9085 - accuracy: 0.5775\n"
          ]
        },
        {
          "output_type": "execute_result",
          "data": {
            "text/plain": [
              "<keras.callbacks.History at 0x7f7619f99d10>"
            ]
          },
          "metadata": {},
          "execution_count": 18
        }
      ]
    },
    {
      "cell_type": "code",
      "source": [
        "model.save(\"/content\")"
      ],
      "metadata": {
        "id": "QrUmYd7sjc0G",
        "outputId": "27027978-bb66-4b6c-a9d3-9d7c5eaaf73d",
        "colab": {
          "base_uri": "https://localhost:8080/"
        }
      },
      "execution_count": 19,
      "outputs": [
        {
          "output_type": "stream",
          "name": "stdout",
          "text": [
            "INFO:tensorflow:Assets written to: /content/assets\n"
          ]
        }
      ]
    },
    {
      "cell_type": "code",
      "source": [
        "test_loss,test_accuracy=model.evaluate(x_test,y_test)\n"
      ],
      "metadata": {
        "colab": {
          "base_uri": "https://localhost:8080/"
        },
        "id": "bG_4vAiQo4HB",
        "outputId": "d2c225ec-eeeb-4c06-97b5-f3ef3e10d92c"
      },
      "execution_count": 20,
      "outputs": [
        {
          "output_type": "stream",
          "name": "stdout",
          "text": [
            "2/2 [==============================] - 0s 7ms/step - loss: 0.8669 - accuracy: 0.4167\n"
          ]
        }
      ]
    },
    {
      "cell_type": "code",
      "source": [
        "print(test_loss,test_accuracy)"
      ],
      "metadata": {
        "colab": {
          "base_uri": "https://localhost:8080/"
        },
        "id": "hQ-5NOW8qFFn",
        "outputId": "817fa1c8-b744-4051-f703-9f02f106b769"
      },
      "execution_count": 21,
      "outputs": [
        {
          "output_type": "stream",
          "name": "stdout",
          "text": [
            "0.8669305443763733 0.4166666567325592\n"
          ]
        }
      ]
    },
    {
      "cell_type": "code",
      "source": [
        ""
      ],
      "metadata": {
        "id": "n3tr1vN9jo3c"
      },
      "execution_count": null,
      "outputs": []
    }
  ]
}