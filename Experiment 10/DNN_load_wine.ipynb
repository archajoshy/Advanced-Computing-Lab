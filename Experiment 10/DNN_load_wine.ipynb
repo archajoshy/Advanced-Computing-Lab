{
  "nbformat": 4,
  "nbformat_minor": 0,
  "metadata": {
    "colab": {
      "name": "DNN_load_wine.ipynb",
      "provenance": [],
      "collapsed_sections": [],
      "authorship_tag": "ABX9TyMMXN2vc21rNjpaFEUKVZ3z",
      "include_colab_link": true
    },
    "kernelspec": {
      "name": "python3",
      "display_name": "Python 3"
    },
    "language_info": {
      "name": "python"
    }
  },
  "cells": [
    {
      "cell_type": "markdown",
      "metadata": {
        "id": "view-in-github",
        "colab_type": "text"
      },
      "source": [
        "<a href=\"https://colab.research.google.com/github/archajoshy/Advanced-Computing-Lab/blob/main/Experiment%2010/DNN_load_wine.ipynb\" target=\"_parent\"><img src=\"https://colab.research.google.com/assets/colab-badge.svg\" alt=\"Open In Colab\"/></a>"
      ]
    },
    {
      "cell_type": "code",
      "execution_count": null,
      "metadata": {
        "id": "oLIo2muBmJIL"
      },
      "outputs": [],
      "source": [
        "from sklearn.datasets import load_wine\n",
        "data=load_wine()\n",
        "x=data.data\n",
        "y=data.target"
      ]
    },
    {
      "cell_type": "code",
      "source": [
        "x.shape"
      ],
      "metadata": {
        "colab": {
          "base_uri": "https://localhost:8080/"
        },
        "id": "-ezKpBjo0PLf",
        "outputId": "0650ae0e-8d6e-4022-e2b6-d1703922651c"
      },
      "execution_count": null,
      "outputs": [
        {
          "output_type": "execute_result",
          "data": {
            "text/plain": [
              "(178, 13)"
            ]
          },
          "metadata": {},
          "execution_count": 2
        }
      ]
    },
    {
      "cell_type": "code",
      "source": [
        "y"
      ],
      "metadata": {
        "colab": {
          "base_uri": "https://localhost:8080/"
        },
        "id": "Y7P4U368pB-U",
        "outputId": "4f1a227c-dafc-4be1-8a03-e9ef8111bed6"
      },
      "execution_count": null,
      "outputs": [
        {
          "output_type": "execute_result",
          "data": {
            "text/plain": [
              "array([0, 0, 0, 0, 0, 0, 0, 0, 0, 0, 0, 0, 0, 0, 0, 0, 0, 0, 0, 0, 0, 0,\n",
              "       0, 0, 0, 0, 0, 0, 0, 0, 0, 0, 0, 0, 0, 0, 0, 0, 0, 0, 0, 0, 0, 0,\n",
              "       0, 0, 0, 0, 0, 0, 0, 0, 0, 0, 0, 0, 0, 0, 0, 1, 1, 1, 1, 1, 1, 1,\n",
              "       1, 1, 1, 1, 1, 1, 1, 1, 1, 1, 1, 1, 1, 1, 1, 1, 1, 1, 1, 1, 1, 1,\n",
              "       1, 1, 1, 1, 1, 1, 1, 1, 1, 1, 1, 1, 1, 1, 1, 1, 1, 1, 1, 1, 1, 1,\n",
              "       1, 1, 1, 1, 1, 1, 1, 1, 1, 1, 1, 1, 1, 1, 1, 1, 1, 1, 1, 1, 2, 2,\n",
              "       2, 2, 2, 2, 2, 2, 2, 2, 2, 2, 2, 2, 2, 2, 2, 2, 2, 2, 2, 2, 2, 2,\n",
              "       2, 2, 2, 2, 2, 2, 2, 2, 2, 2, 2, 2, 2, 2, 2, 2, 2, 2, 2, 2, 2, 2,\n",
              "       2, 2])"
            ]
          },
          "metadata": {},
          "execution_count": 3
        }
      ]
    },
    {
      "cell_type": "code",
      "source": [
        "from sklearn.model_selection import train_test_split\n",
        "x_train, x_test, y_train, y_test = train_test_split(x, y, test_size=0.2)"
      ],
      "metadata": {
        "id": "ohhoFXRomf6x"
      },
      "execution_count": null,
      "outputs": []
    },
    {
      "cell_type": "code",
      "source": [
        "import tensorflow as tf\n",
        "from tensorflow import keras"
      ],
      "metadata": {
        "id": "agH4VddZm_8T"
      },
      "execution_count": null,
      "outputs": []
    },
    {
      "cell_type": "code",
      "source": [
        "model=keras.models.Sequential()"
      ],
      "metadata": {
        "id": "8IqfSvq7nGs9"
      },
      "execution_count": null,
      "outputs": []
    },
    {
      "cell_type": "code",
      "source": [
        "model.add(keras.layers.Dense(units=25,activation='relu',input_dim=x.shape[1]))"
      ],
      "metadata": {
        "id": "LgzS5iVenL0P"
      },
      "execution_count": null,
      "outputs": []
    },
    {
      "cell_type": "code",
      "source": [
        "model.add(keras.layers.Dense(units=20,activation='relu'))"
      ],
      "metadata": {
        "id": "7vPVYmfFncrh"
      },
      "execution_count": null,
      "outputs": []
    },
    {
      "cell_type": "code",
      "source": [
        "model.add(keras.layers.Dense(units=15,activation='relu'))"
      ],
      "metadata": {
        "id": "BwSPot2DpkPa"
      },
      "execution_count": null,
      "outputs": []
    },
    {
      "cell_type": "code",
      "source": [
        "model.add(keras.layers.Dense(units=10,activation='relu'))"
      ],
      "metadata": {
        "id": "c3M-UXix7Zq9"
      },
      "execution_count": null,
      "outputs": []
    },
    {
      "cell_type": "code",
      "source": [
        "model.add(keras.layers.Dense(units=3,activation='softmax'))"
      ],
      "metadata": {
        "id": "xPf85esMniSJ"
      },
      "execution_count": null,
      "outputs": []
    },
    {
      "cell_type": "code",
      "source": [
        "model.summary()"
      ],
      "metadata": {
        "colab": {
          "base_uri": "https://localhost:8080/"
        },
        "id": "5ovtcr-7nuA-",
        "outputId": "7e8edfc1-542f-43bd-c439-2632f040bb0b"
      },
      "execution_count": null,
      "outputs": [
        {
          "output_type": "stream",
          "name": "stdout",
          "text": [
            "Model: \"sequential_2\"\n",
            "_________________________________________________________________\n",
            " Layer (type)                Output Shape              Param #   \n",
            "=================================================================\n",
            " dense_9 (Dense)             (None, 25)                350       \n",
            "                                                                 \n",
            " dense_10 (Dense)            (None, 20)                520       \n",
            "                                                                 \n",
            " dense_11 (Dense)            (None, 15)                315       \n",
            "                                                                 \n",
            " dense_12 (Dense)            (None, 10)                160       \n",
            "                                                                 \n",
            " dense_13 (Dense)            (None, 3)                 33        \n",
            "                                                                 \n",
            "=================================================================\n",
            "Total params: 1,378\n",
            "Trainable params: 1,378\n",
            "Non-trainable params: 0\n",
            "_________________________________________________________________\n"
          ]
        }
      ]
    },
    {
      "cell_type": "code",
      "source": [
        "model.compile(loss='sparse_categorical_crossentropy',optimizer='adam',metrics=['accuracy'])"
      ],
      "metadata": {
        "id": "gZXgnZSfoGWr"
      },
      "execution_count": null,
      "outputs": []
    },
    {
      "cell_type": "code",
      "source": [
        "model.fit(x_train,y_train,epochs=50)\n"
      ],
      "metadata": {
        "colab": {
          "base_uri": "https://localhost:8080/"
        },
        "id": "oVjyx9W0ogNt",
        "outputId": "e0bea3c6-3709-4c6b-c366-03a6c82b062b"
      },
      "execution_count": null,
      "outputs": [
        {
          "output_type": "stream",
          "name": "stdout",
          "text": [
            "Epoch 1/50\n",
            "5/5 [==============================] - 0s 3ms/step - loss: 34.3164 - accuracy: 0.4155\n",
            "Epoch 2/50\n",
            "5/5 [==============================] - 0s 3ms/step - loss: 25.3206 - accuracy: 0.4225\n",
            "Epoch 3/50\n",
            "5/5 [==============================] - 0s 3ms/step - loss: 15.5793 - accuracy: 0.5211\n",
            "Epoch 4/50\n",
            "5/5 [==============================] - 0s 5ms/step - loss: 9.8136 - accuracy: 0.5211\n",
            "Epoch 5/50\n",
            "5/5 [==============================] - 0s 3ms/step - loss: 6.7543 - accuracy: 0.4296\n",
            "Epoch 6/50\n",
            "5/5 [==============================] - 0s 3ms/step - loss: 2.5355 - accuracy: 0.4648\n",
            "Epoch 7/50\n",
            "5/5 [==============================] - 0s 3ms/step - loss: 3.3470 - accuracy: 0.4366\n",
            "Epoch 8/50\n",
            "5/5 [==============================] - 0s 4ms/step - loss: 1.7813 - accuracy: 0.5211\n",
            "Epoch 9/50\n",
            "5/5 [==============================] - 0s 3ms/step - loss: 1.6762 - accuracy: 0.5282\n",
            "Epoch 10/50\n",
            "5/5 [==============================] - 0s 4ms/step - loss: 1.6604 - accuracy: 0.5634\n",
            "Epoch 11/50\n",
            "5/5 [==============================] - 0s 3ms/step - loss: 1.4708 - accuracy: 0.6268\n",
            "Epoch 12/50\n",
            "5/5 [==============================] - 0s 3ms/step - loss: 1.2068 - accuracy: 0.5845\n",
            "Epoch 13/50\n",
            "5/5 [==============================] - 0s 3ms/step - loss: 1.2184 - accuracy: 0.6549\n",
            "Epoch 14/50\n",
            "5/5 [==============================] - 0s 3ms/step - loss: 1.2089 - accuracy: 0.5845\n",
            "Epoch 15/50\n",
            "5/5 [==============================] - 0s 3ms/step - loss: 1.2216 - accuracy: 0.6127\n",
            "Epoch 16/50\n",
            "5/5 [==============================] - 0s 3ms/step - loss: 1.0309 - accuracy: 0.6479\n",
            "Epoch 17/50\n",
            "5/5 [==============================] - 0s 3ms/step - loss: 0.9927 - accuracy: 0.6479\n",
            "Epoch 18/50\n",
            "5/5 [==============================] - 0s 4ms/step - loss: 0.9257 - accuracy: 0.6901\n",
            "Epoch 19/50\n",
            "5/5 [==============================] - 0s 5ms/step - loss: 0.9933 - accuracy: 0.6549\n",
            "Epoch 20/50\n",
            "5/5 [==============================] - 0s 4ms/step - loss: 0.9329 - accuracy: 0.6761\n",
            "Epoch 21/50\n",
            "5/5 [==============================] - 0s 3ms/step - loss: 0.9226 - accuracy: 0.6761\n",
            "Epoch 22/50\n",
            "5/5 [==============================] - 0s 3ms/step - loss: 0.8953 - accuracy: 0.6690\n",
            "Epoch 23/50\n",
            "5/5 [==============================] - 0s 4ms/step - loss: 0.8975 - accuracy: 0.6831\n",
            "Epoch 24/50\n",
            "5/5 [==============================] - 0s 4ms/step - loss: 0.8786 - accuracy: 0.6620\n",
            "Epoch 25/50\n",
            "5/5 [==============================] - 0s 4ms/step - loss: 0.9435 - accuracy: 0.6620\n",
            "Epoch 26/50\n",
            "5/5 [==============================] - 0s 3ms/step - loss: 1.4145 - accuracy: 0.6408\n",
            "Epoch 27/50\n",
            "5/5 [==============================] - 0s 4ms/step - loss: 1.0772 - accuracy: 0.6620\n",
            "Epoch 28/50\n",
            "5/5 [==============================] - 0s 3ms/step - loss: 0.9379 - accuracy: 0.6831\n",
            "Epoch 29/50\n",
            "5/5 [==============================] - 0s 4ms/step - loss: 0.9925 - accuracy: 0.6831\n",
            "Epoch 30/50\n",
            "5/5 [==============================] - 0s 4ms/step - loss: 1.0599 - accuracy: 0.6408\n",
            "Epoch 31/50\n",
            "5/5 [==============================] - 0s 4ms/step - loss: 0.9617 - accuracy: 0.6761\n",
            "Epoch 32/50\n",
            "5/5 [==============================] - 0s 4ms/step - loss: 0.8993 - accuracy: 0.7042\n",
            "Epoch 33/50\n",
            "5/5 [==============================] - 0s 4ms/step - loss: 0.9167 - accuracy: 0.6761\n",
            "Epoch 34/50\n",
            "5/5 [==============================] - 0s 4ms/step - loss: 0.8732 - accuracy: 0.6831\n",
            "Epoch 35/50\n",
            "5/5 [==============================] - 0s 3ms/step - loss: 0.9002 - accuracy: 0.6972\n",
            "Epoch 36/50\n",
            "5/5 [==============================] - 0s 3ms/step - loss: 0.8278 - accuracy: 0.6901\n",
            "Epoch 37/50\n",
            "5/5 [==============================] - 0s 3ms/step - loss: 0.7885 - accuracy: 0.7042\n",
            "Epoch 38/50\n",
            "5/5 [==============================] - 0s 3ms/step - loss: 0.7607 - accuracy: 0.7254\n",
            "Epoch 39/50\n",
            "5/5 [==============================] - 0s 3ms/step - loss: 0.8353 - accuracy: 0.7113\n",
            "Epoch 40/50\n",
            "5/5 [==============================] - 0s 4ms/step - loss: 0.7651 - accuracy: 0.7324\n",
            "Epoch 41/50\n",
            "5/5 [==============================] - 0s 4ms/step - loss: 0.7590 - accuracy: 0.7042\n",
            "Epoch 42/50\n",
            "5/5 [==============================] - 0s 5ms/step - loss: 0.7959 - accuracy: 0.7113\n",
            "Epoch 43/50\n",
            "5/5 [==============================] - 0s 4ms/step - loss: 0.8350 - accuracy: 0.6972\n",
            "Epoch 44/50\n",
            "5/5 [==============================] - 0s 3ms/step - loss: 0.7870 - accuracy: 0.7113\n",
            "Epoch 45/50\n",
            "5/5 [==============================] - 0s 4ms/step - loss: 0.7524 - accuracy: 0.7254\n",
            "Epoch 46/50\n",
            "5/5 [==============================] - 0s 3ms/step - loss: 0.7196 - accuracy: 0.7183\n",
            "Epoch 47/50\n",
            "5/5 [==============================] - 0s 3ms/step - loss: 0.7233 - accuracy: 0.7254\n",
            "Epoch 48/50\n",
            "5/5 [==============================] - 0s 3ms/step - loss: 0.7331 - accuracy: 0.7324\n",
            "Epoch 49/50\n",
            "5/5 [==============================] - 0s 4ms/step - loss: 0.7788 - accuracy: 0.7042\n",
            "Epoch 50/50\n",
            "5/5 [==============================] - 0s 3ms/step - loss: 0.7685 - accuracy: 0.7254\n"
          ]
        },
        {
          "output_type": "execute_result",
          "data": {
            "text/plain": [
              "<keras.callbacks.History at 0x7f17f317fc50>"
            ]
          },
          "metadata": {},
          "execution_count": 34
        }
      ]
    },
    {
      "cell_type": "code",
      "source": [
        "test_loss,test_accuracy=model.evaluate(x_test,y_test)\n"
      ],
      "metadata": {
        "colab": {
          "base_uri": "https://localhost:8080/"
        },
        "id": "bG_4vAiQo4HB",
        "outputId": "55695075-c657-4cd7-95ef-863affe47a5c"
      },
      "execution_count": null,
      "outputs": [
        {
          "output_type": "stream",
          "name": "stdout",
          "text": [
            "2/2 [==============================] - 0s 10ms/step - loss: 0.7563 - accuracy: 0.8056\n"
          ]
        }
      ]
    },
    {
      "cell_type": "code",
      "source": [
        "print(test_loss,test_accuracy)"
      ],
      "metadata": {
        "colab": {
          "base_uri": "https://localhost:8080/"
        },
        "id": "hQ-5NOW8qFFn",
        "outputId": "871cd3c8-56d1-4ff9-b648-9201486dd610"
      },
      "execution_count": null,
      "outputs": [
        {
          "output_type": "stream",
          "name": "stdout",
          "text": [
            "0.7563074827194214 0.8055555820465088\n"
          ]
        }
      ]
    }
  ]
}