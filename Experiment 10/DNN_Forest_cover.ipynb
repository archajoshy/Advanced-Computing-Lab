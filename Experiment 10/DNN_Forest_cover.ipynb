{
  "nbformat": 4,
  "nbformat_minor": 0,
  "metadata": {
    "colab": {
      "name": "DNN_Forest_cover.ipynb",
      "provenance": [],
      "collapsed_sections": [],
      "authorship_tag": "ABX9TyObgPLw3t3FnCMPTm9gaDIX",
      "include_colab_link": true
    },
    "kernelspec": {
      "name": "python3",
      "display_name": "Python 3"
    },
    "language_info": {
      "name": "python"
    },
    "accelerator": "GPU"
  },
  "cells": [
    {
      "cell_type": "markdown",
      "metadata": {
        "id": "view-in-github",
        "colab_type": "text"
      },
      "source": [
        "<a href=\"https://colab.research.google.com/github/archajoshy/Advanced-Computing-Lab/blob/main/Experiment%2010/DNN_Forest_cover.ipynb\" target=\"_parent\"><img src=\"https://colab.research.google.com/assets/colab-badge.svg\" alt=\"Open In Colab\"/></a>"
      ]
    },
    {
      "cell_type": "code",
      "execution_count": null,
      "metadata": {
        "id": "vy6Y1yeDnG-Y"
      },
      "outputs": [],
      "source": [
        "from sklearn.datasets import fetch_covtype\n",
        "X,y=fetch_covtype(return_X_y=True)"
      ]
    },
    {
      "cell_type": "code",
      "source": [
        "X"
      ],
      "metadata": {
        "colab": {
          "base_uri": "https://localhost:8080/"
        },
        "id": "XjbEziuHoBuF",
        "outputId": "46afd63a-d694-449b-c146-2d545fcd9dd4"
      },
      "execution_count": null,
      "outputs": [
        {
          "output_type": "execute_result",
          "data": {
            "text/plain": [
              "array([[2.596e+03, 5.100e+01, 3.000e+00, ..., 0.000e+00, 0.000e+00,\n",
              "        0.000e+00],\n",
              "       [2.590e+03, 5.600e+01, 2.000e+00, ..., 0.000e+00, 0.000e+00,\n",
              "        0.000e+00],\n",
              "       [2.804e+03, 1.390e+02, 9.000e+00, ..., 0.000e+00, 0.000e+00,\n",
              "        0.000e+00],\n",
              "       ...,\n",
              "       [2.386e+03, 1.590e+02, 1.700e+01, ..., 0.000e+00, 0.000e+00,\n",
              "        0.000e+00],\n",
              "       [2.384e+03, 1.700e+02, 1.500e+01, ..., 0.000e+00, 0.000e+00,\n",
              "        0.000e+00],\n",
              "       [2.383e+03, 1.650e+02, 1.300e+01, ..., 0.000e+00, 0.000e+00,\n",
              "        0.000e+00]])"
            ]
          },
          "metadata": {},
          "execution_count": 2
        }
      ]
    },
    {
      "cell_type": "code",
      "source": [
        "y"
      ],
      "metadata": {
        "colab": {
          "base_uri": "https://localhost:8080/"
        },
        "id": "cn_bY6GSok8Z",
        "outputId": "12b52668-f3c1-4ef7-9445-ae546209dbef"
      },
      "execution_count": null,
      "outputs": [
        {
          "output_type": "execute_result",
          "data": {
            "text/plain": [
              "array([5, 5, 2, ..., 3, 3, 3], dtype=int32)"
            ]
          },
          "metadata": {},
          "execution_count": 3
        }
      ]
    },
    {
      "cell_type": "code",
      "source": [
        "print(set(y))"
      ],
      "metadata": {
        "colab": {
          "base_uri": "https://localhost:8080/"
        },
        "id": "GQskpdUetpG3",
        "outputId": "7799397a-d73b-4998-e03f-2ad90fdc1c7f"
      },
      "execution_count": null,
      "outputs": [
        {
          "output_type": "stream",
          "name": "stdout",
          "text": [
            "{1, 2, 3, 4, 5, 6, 7}\n"
          ]
        }
      ]
    },
    {
      "cell_type": "code",
      "source": [
        "y=y-1"
      ],
      "metadata": {
        "id": "eANxq5aettSC"
      },
      "execution_count": null,
      "outputs": []
    },
    {
      "cell_type": "code",
      "source": [
        "print(set(y))"
      ],
      "metadata": {
        "colab": {
          "base_uri": "https://localhost:8080/"
        },
        "id": "ngjzZNiftwAB",
        "outputId": "ea9c7b02-5939-4275-87f0-7ee127534347"
      },
      "execution_count": null,
      "outputs": [
        {
          "output_type": "stream",
          "name": "stdout",
          "text": [
            "{0, 1, 2, 3, 4, 5, 6}\n"
          ]
        }
      ]
    },
    {
      "cell_type": "code",
      "source": [
        "import numpy as np\n"
      ],
      "metadata": {
        "id": "n-w0nMzlom8x"
      },
      "execution_count": null,
      "outputs": []
    },
    {
      "cell_type": "code",
      "source": [
        "np.shape(X)"
      ],
      "metadata": {
        "colab": {
          "base_uri": "https://localhost:8080/"
        },
        "id": "awJHpK-Co1kG",
        "outputId": "2d7a940a-de16-467a-b248-aa4abd447f75"
      },
      "execution_count": null,
      "outputs": [
        {
          "output_type": "execute_result",
          "data": {
            "text/plain": [
              "(581012, 54)"
            ]
          },
          "metadata": {},
          "execution_count": 8
        }
      ]
    },
    {
      "cell_type": "code",
      "source": [
        "np.shape(y)"
      ],
      "metadata": {
        "colab": {
          "base_uri": "https://localhost:8080/"
        },
        "id": "UHH3YMkbo3Ja",
        "outputId": "4ffad103-4972-4a4d-e125-33d2cec2a1a1"
      },
      "execution_count": null,
      "outputs": [
        {
          "output_type": "execute_result",
          "data": {
            "text/plain": [
              "(581012,)"
            ]
          },
          "metadata": {},
          "execution_count": 9
        }
      ]
    },
    {
      "cell_type": "code",
      "source": [
        "from sklearn.model_selection import train_test_split\n",
        "x_train, x_test, y_train, y_test = train_test_split(X, y, test_size=0.2)"
      ],
      "metadata": {
        "id": "Oxreeiz5o4-O"
      },
      "execution_count": null,
      "outputs": []
    },
    {
      "cell_type": "code",
      "source": [
        "import tensorflow as tf\n",
        "from tensorflow import keras"
      ],
      "metadata": {
        "id": "UWSlJqTUpHr7"
      },
      "execution_count": null,
      "outputs": []
    },
    {
      "cell_type": "code",
      "source": [
        "model=keras.models.Sequential()"
      ],
      "metadata": {
        "id": "gzjAs9NwpMaJ"
      },
      "execution_count": null,
      "outputs": []
    },
    {
      "cell_type": "code",
      "source": [
        "model.add(keras.layers.Dense(units=150,activation='relu',input_dim=X.shape[1]))"
      ],
      "metadata": {
        "id": "ObEu1R3PpQET"
      },
      "execution_count": null,
      "outputs": []
    },
    {
      "cell_type": "code",
      "source": [
        "model.add(keras.layers.Dense(units=80,activation='relu'))"
      ],
      "metadata": {
        "id": "bL6_IdalpTxw"
      },
      "execution_count": null,
      "outputs": []
    },
    {
      "cell_type": "code",
      "source": [
        "model.add(keras.layers.Dense(units=90,activation='relu'))"
      ],
      "metadata": {
        "id": "ClUws1Uppb0O"
      },
      "execution_count": null,
      "outputs": []
    },
    {
      "cell_type": "code",
      "source": [
        "model.add(keras.layers.Dense(units=7,activation='softmax'))"
      ],
      "metadata": {
        "id": "lTbLn5aFpd-U"
      },
      "execution_count": null,
      "outputs": []
    },
    {
      "cell_type": "code",
      "source": [
        "model.summary()"
      ],
      "metadata": {
        "colab": {
          "base_uri": "https://localhost:8080/"
        },
        "id": "1jL9DmRJpgMi",
        "outputId": "a18b06dc-128c-4df5-d73f-8bdb188f819d"
      },
      "execution_count": null,
      "outputs": [
        {
          "output_type": "stream",
          "name": "stdout",
          "text": [
            "Model: \"sequential_1\"\n",
            "_________________________________________________________________\n",
            " Layer (type)                Output Shape              Param #   \n",
            "=================================================================\n",
            " dense_8 (Dense)             (None, 150)               8250      \n",
            "                                                                 \n",
            " dense_9 (Dense)             (None, 80)                12080     \n",
            "                                                                 \n",
            " dense_10 (Dense)            (None, 90)                7290      \n",
            "                                                                 \n",
            " dense_11 (Dense)            (None, 7)                 637       \n",
            "                                                                 \n",
            "=================================================================\n",
            "Total params: 28,257\n",
            "Trainable params: 28,257\n",
            "Non-trainable params: 0\n",
            "_________________________________________________________________\n"
          ]
        }
      ]
    },
    {
      "cell_type": "code",
      "source": [
        "model.compile(loss='sparse_categorical_crossentropy',optimizer='adam',metrics=['accuracy'])"
      ],
      "metadata": {
        "id": "QXIr8BXapidv"
      },
      "execution_count": null,
      "outputs": []
    },
    {
      "cell_type": "code",
      "source": [
        "model.fit(x_train,y_train,epochs=50,batch_size=1000)"
      ],
      "metadata": {
        "colab": {
          "base_uri": "https://localhost:8080/"
        },
        "id": "u-lcOo2vpyEO",
        "outputId": "facc7921-9395-472b-ff34-9173d03d0e3f"
      },
      "execution_count": null,
      "outputs": [
        {
          "output_type": "stream",
          "name": "stdout",
          "text": [
            "Epoch 1/50\n",
            "465/465 [==============================] - 2s 3ms/step - loss: 5.2564 - accuracy: 0.5121\n",
            "Epoch 2/50\n",
            "465/465 [==============================] - 1s 3ms/step - loss: 1.3251 - accuracy: 0.6024\n",
            "Epoch 3/50\n",
            "465/465 [==============================] - 1s 3ms/step - loss: 0.9790 - accuracy: 0.6501\n",
            "Epoch 4/50\n",
            "465/465 [==============================] - 1s 3ms/step - loss: 0.8043 - accuracy: 0.6839\n",
            "Epoch 5/50\n",
            "465/465 [==============================] - 1s 3ms/step - loss: 0.8034 - accuracy: 0.6876\n",
            "Epoch 6/50\n",
            "465/465 [==============================] - 1s 3ms/step - loss: 0.7137 - accuracy: 0.7075\n",
            "Epoch 7/50\n",
            "465/465 [==============================] - 1s 3ms/step - loss: 0.6877 - accuracy: 0.7142\n",
            "Epoch 8/50\n",
            "465/465 [==============================] - 1s 3ms/step - loss: 0.6585 - accuracy: 0.7270\n",
            "Epoch 9/50\n",
            "465/465 [==============================] - 1s 3ms/step - loss: 0.6345 - accuracy: 0.7341\n",
            "Epoch 10/50\n",
            "465/465 [==============================] - 1s 3ms/step - loss: 0.6218 - accuracy: 0.7390\n",
            "Epoch 11/50\n",
            "465/465 [==============================] - 1s 3ms/step - loss: 0.6121 - accuracy: 0.7416\n",
            "Epoch 12/50\n",
            "465/465 [==============================] - 1s 3ms/step - loss: 0.5993 - accuracy: 0.7476\n",
            "Epoch 13/50\n",
            "465/465 [==============================] - 1s 3ms/step - loss: 0.5820 - accuracy: 0.7538\n",
            "Epoch 14/50\n",
            "465/465 [==============================] - 1s 3ms/step - loss: 0.5668 - accuracy: 0.7595\n",
            "Epoch 15/50\n",
            "465/465 [==============================] - 1s 3ms/step - loss: 0.5538 - accuracy: 0.7653\n",
            "Epoch 16/50\n",
            "465/465 [==============================] - 1s 3ms/step - loss: 0.5538 - accuracy: 0.7649\n",
            "Epoch 17/50\n",
            "465/465 [==============================] - 1s 3ms/step - loss: 0.5419 - accuracy: 0.7697\n",
            "Epoch 18/50\n",
            "465/465 [==============================] - 1s 3ms/step - loss: 0.5390 - accuracy: 0.7699\n",
            "Epoch 19/50\n",
            "465/465 [==============================] - 1s 3ms/step - loss: 0.5308 - accuracy: 0.7739\n",
            "Epoch 20/50\n",
            "465/465 [==============================] - 1s 3ms/step - loss: 0.5199 - accuracy: 0.7782\n",
            "Epoch 21/50\n",
            "465/465 [==============================] - 1s 3ms/step - loss: 0.5152 - accuracy: 0.7806\n",
            "Epoch 22/50\n",
            "465/465 [==============================] - 1s 3ms/step - loss: 0.5088 - accuracy: 0.7826\n",
            "Epoch 23/50\n",
            "465/465 [==============================] - 1s 3ms/step - loss: 0.4974 - accuracy: 0.7881\n",
            "Epoch 24/50\n",
            "465/465 [==============================] - 1s 3ms/step - loss: 0.4952 - accuracy: 0.7893\n",
            "Epoch 25/50\n",
            "465/465 [==============================] - 1s 3ms/step - loss: 0.4892 - accuracy: 0.7912\n",
            "Epoch 26/50\n",
            "465/465 [==============================] - 1s 3ms/step - loss: 0.4839 - accuracy: 0.7933\n",
            "Epoch 27/50\n",
            "465/465 [==============================] - 1s 3ms/step - loss: 0.4768 - accuracy: 0.7973\n",
            "Epoch 28/50\n",
            "465/465 [==============================] - 1s 3ms/step - loss: 0.4716 - accuracy: 0.7996\n",
            "Epoch 29/50\n",
            "465/465 [==============================] - 1s 3ms/step - loss: 0.4578 - accuracy: 0.8062\n",
            "Epoch 30/50\n",
            "465/465 [==============================] - 1s 3ms/step - loss: 0.4563 - accuracy: 0.8067\n",
            "Epoch 31/50\n",
            "465/465 [==============================] - 1s 3ms/step - loss: 0.4531 - accuracy: 0.8079\n",
            "Epoch 32/50\n",
            "465/465 [==============================] - 1s 3ms/step - loss: 0.4506 - accuracy: 0.8085\n",
            "Epoch 33/50\n",
            "465/465 [==============================] - 1s 3ms/step - loss: 0.4489 - accuracy: 0.8101\n",
            "Epoch 34/50\n",
            "465/465 [==============================] - 1s 3ms/step - loss: 0.4337 - accuracy: 0.8170\n",
            "Epoch 35/50\n",
            "465/465 [==============================] - 1s 3ms/step - loss: 0.4329 - accuracy: 0.8174\n",
            "Epoch 36/50\n",
            "465/465 [==============================] - 1s 3ms/step - loss: 0.4300 - accuracy: 0.8181\n",
            "Epoch 37/50\n",
            "465/465 [==============================] - 1s 3ms/step - loss: 0.4230 - accuracy: 0.8212\n",
            "Epoch 38/50\n",
            "465/465 [==============================] - 1s 3ms/step - loss: 0.4218 - accuracy: 0.8220\n",
            "Epoch 39/50\n",
            "465/465 [==============================] - 1s 3ms/step - loss: 0.4235 - accuracy: 0.8216\n",
            "Epoch 40/50\n",
            "465/465 [==============================] - 2s 4ms/step - loss: 0.4098 - accuracy: 0.8277\n",
            "Epoch 41/50\n",
            "465/465 [==============================] - 1s 3ms/step - loss: 0.4068 - accuracy: 0.8296\n",
            "Epoch 42/50\n",
            "465/465 [==============================] - 1s 3ms/step - loss: 0.4106 - accuracy: 0.8273\n",
            "Epoch 43/50\n",
            "465/465 [==============================] - 1s 3ms/step - loss: 0.4017 - accuracy: 0.8314\n",
            "Epoch 44/50\n",
            "465/465 [==============================] - 1s 3ms/step - loss: 0.4061 - accuracy: 0.8298\n",
            "Epoch 45/50\n",
            "465/465 [==============================] - 1s 3ms/step - loss: 0.3916 - accuracy: 0.8361\n",
            "Epoch 46/50\n",
            "465/465 [==============================] - 1s 3ms/step - loss: 0.3913 - accuracy: 0.8363\n",
            "Epoch 47/50\n",
            "465/465 [==============================] - 1s 3ms/step - loss: 0.3852 - accuracy: 0.8386\n",
            "Epoch 48/50\n",
            "465/465 [==============================] - 1s 3ms/step - loss: 0.3896 - accuracy: 0.8366\n",
            "Epoch 49/50\n",
            "465/465 [==============================] - 1s 3ms/step - loss: 0.3863 - accuracy: 0.8382\n",
            "Epoch 50/50\n",
            "465/465 [==============================] - 1s 3ms/step - loss: 0.3838 - accuracy: 0.8395\n"
          ]
        },
        {
          "output_type": "execute_result",
          "data": {
            "text/plain": [
              "<keras.callbacks.History at 0x7f1e6e3603d0>"
            ]
          },
          "metadata": {},
          "execution_count": 35
        }
      ]
    },
    {
      "cell_type": "code",
      "source": [
        "test_loss,test_accuracy=model.evaluate(x_test,y_test)"
      ],
      "metadata": {
        "colab": {
          "base_uri": "https://localhost:8080/"
        },
        "id": "R7PYTKYKyexm",
        "outputId": "08fa14f5-83e7-4ea7-c935-54d2689a73e6"
      },
      "execution_count": null,
      "outputs": [
        {
          "output_type": "stream",
          "name": "stdout",
          "text": [
            "3632/3632 [==============================] - 9s 2ms/step - loss: 0.3766 - accuracy: 0.8399\n"
          ]
        }
      ]
    },
    {
      "cell_type": "code",
      "source": [
        "print(test_loss,test_accuracy)\n"
      ],
      "metadata": {
        "colab": {
          "base_uri": "https://localhost:8080/"
        },
        "id": "skET86sOyfY3",
        "outputId": "b2c05419-73f2-4fc3-af40-038672342ebb"
      },
      "execution_count": null,
      "outputs": [
        {
          "output_type": "stream",
          "name": "stdout",
          "text": [
            "0.3766237795352936 0.8399438858032227\n"
          ]
        }
      ]
    },
    {
      "cell_type": "code",
      "source": [
        ""
      ],
      "metadata": {
        "id": "y-1trH7dykos"
      },
      "execution_count": null,
      "outputs": []
    }
  ]
}