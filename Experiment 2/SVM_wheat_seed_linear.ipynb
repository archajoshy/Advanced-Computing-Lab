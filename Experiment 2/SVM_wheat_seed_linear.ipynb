{
  "nbformat": 4,
  "nbformat_minor": 0,
  "metadata": {
    "colab": {
      "name": "SVM_wheat-seed_linear.ipynb",
      "provenance": [],
      "collapsed_sections": [],
      "authorship_tag": "ABX9TyPaKE+yeDu/3l3J1FDrCbt6",
      "include_colab_link": true
    },
    "kernelspec": {
      "name": "python3",
      "display_name": "Python 3"
    },
    "language_info": {
      "name": "python"
    }
  },
  "cells": [
    {
      "cell_type": "markdown",
      "metadata": {
        "id": "view-in-github",
        "colab_type": "text"
      },
      "source": [
        "<a href=\"https://colab.research.google.com/github/archajoshy/Advanced-Computing-Lab/blob/main/Experiment%202/SVM_wheat_seed_linear.ipynb\" target=\"_parent\"><img src=\"https://colab.research.google.com/assets/colab-badge.svg\" alt=\"Open In Colab\"/></a>"
      ]
    },
    {
      "cell_type": "code",
      "source": [
        "import pandas as pd\n",
        "file=pd.read_csv(\"/content/Wheat_seed.csv\")\n",
        "X=file[[\"area\",\t\"perimeter\",\t\"compactness\",\"lengthOfKernel\",\"widthOfKernel\",\"asymmetryCoefficient\",\"lengthOfKernelGroove\"]]\n",
        "Y=file[\"seedType\"]\n"
      ],
      "metadata": {
        "id": "xOJytnJp4H_9"
      },
      "execution_count": 1,
      "outputs": []
    },
    {
      "cell_type": "code",
      "execution_count": 4,
      "metadata": {
        "colab": {
          "base_uri": "https://localhost:8080/"
        },
        "id": "dN2OceZ029N9",
        "outputId": "c41b2ab1-23bb-407f-e776-5c50d5c46a71"
      },
      "outputs": [
        {
          "output_type": "stream",
          "name": "stdout",
          "text": [
            "95.23809523809523\n"
          ]
        }
      ],
      "source": [
        "from sklearn.model_selection import train_test_split\n",
        "xtrain,xtest,ytrain,ytest=train_test_split(X,Y,train_size=0.8)\n",
        "from sklearn.svm import SVC\n",
        "ML=SVC(kernel=\"linear\")\n",
        "ML=ML.fit(xtrain,ytrain)\n",
        "res=ML.predict(xtest)\n",
        "from sklearn.metrics import accuracy_score\n",
        "ac=accuracy_score(res,ytest)\n",
        "print(ac*100)\n",
        "\n"
      ]
    }
  ]
}